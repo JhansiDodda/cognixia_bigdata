{
 "cells": [
  {
   "cell_type": "markdown",
   "id": "ed540499",
   "metadata": {},
   "source": [
    "# READ"
   ]
  },
  {
   "cell_type": "code",
   "execution_count": 11,
   "id": "42a24b40",
   "metadata": {},
   "outputs": [
    {
     "name": "stdout",
     "output_type": "stream",
     "text": [
      "Monday\n",
      "Tuesday\n",
      "Wednesday\n",
      "Thursday\n",
      "Friday\n",
      "Saturday\n",
      "Sunday\n"
     ]
    }
   ],
   "source": [
    "# create file first\n",
    "with open('days.txt','r') as fh:\n",
    "    # print(fh.readline(),end='')\n",
    "    # print(fh.readline())\n",
    "    # for day in fh.readlines()[1:6]:\n",
    "    #     print(day[:3])\n",
    "    print(fh.read())"
   ]
  },
  {
   "cell_type": "code",
   "execution_count": 9,
   "id": "054e2dbe",
   "metadata": {},
   "outputs": [
    {
     "name": "stdout",
     "output_type": "stream",
     "text": [
      "Monday\n",
      "\n",
      "Tuesday\n",
      "\n"
     ]
    }
   ],
   "source": [
    "with open('days.txt','r') as fh:\n",
    "    print(fh.readline())\n",
    "    print(fh.readline())"
   ]
  },
  {
   "cell_type": "code",
   "execution_count": 10,
   "id": "8e7e714e",
   "metadata": {},
   "outputs": [
    {
     "name": "stdout",
     "output_type": "stream",
     "text": [
      "Monday\n",
      "Tuesday\n"
     ]
    }
   ],
   "source": [
    "with open('days.txt','r') as fh:\n",
    "    print(fh.readline(),end='')\n",
    "    print(fh.readline(),end='')"
   ]
  },
  {
   "cell_type": "code",
   "execution_count": 6,
   "id": "d97f7286",
   "metadata": {},
   "outputs": [
    {
     "name": "stdout",
     "output_type": "stream",
     "text": [
      "Tue\n",
      "Wed\n",
      "Thu\n",
      "Fri\n",
      "Sat\n"
     ]
    }
   ],
   "source": [
    "with open('days.txt','r') as fh:\n",
    "    for day in fh.readlines()[1:6]:\n",
    "        print(day[:3])"
   ]
  },
  {
   "cell_type": "markdown",
   "id": "8a95bc66",
   "metadata": {},
   "source": [
    "# WRITE"
   ]
  },
  {
   "cell_type": "code",
   "execution_count": 12,
   "id": "a5b16151",
   "metadata": {},
   "outputs": [],
   "source": [
    "with open(\"tech.txt\",'w') as wfo:\n",
    "    wfo.write('SPARK\\n')\n",
    "    wfo.writelines(['Spark\\n','Hadoop\\n','Python\\n','Tableau\\n','DWH'])"
   ]
  },
  {
   "cell_type": "code",
   "execution_count": 13,
   "id": "ec33d78f",
   "metadata": {},
   "outputs": [],
   "source": [
    "with open(\"tech1.txt\",'w') as wfo:\n",
    "    wfo.write('SPARK\\n')"
   ]
  },
  {
   "cell_type": "code",
   "execution_count": 14,
   "id": "c067aab3",
   "metadata": {},
   "outputs": [],
   "source": [
    "with open(\"tech2.txt\",'w') as wfo:\n",
    "    wfo.writelines('SPARK\\n')"
   ]
  },
  {
   "cell_type": "code",
   "execution_count": 15,
   "id": "902e39c1",
   "metadata": {},
   "outputs": [],
   "source": [
    "with open('tech.txt','a') as fh:\n",
    "    fh.writelines(['\\nHDFS\\n','YARN\\n','Sqoop\\n','Hive\\n','Kafka\\n','Airflow'])\n"
   ]
  },
  {
   "cell_type": "code",
   "execution_count": 16,
   "id": "8693fd4b",
   "metadata": {},
   "outputs": [
    {
     "name": "stdout",
     "output_type": "stream",
     "text": [
      "SPARK\n",
      "\n"
     ]
    }
   ],
   "source": [
    "\n",
    "with open('tech1.txt','r+') as venu:\n",
    "    print(venu.read())\n",
    "    venu.write('\\n ------------END OF THE FILE----------------')\n"
   ]
  },
  {
   "cell_type": "code",
   "execution_count": 17,
   "id": "a5e77809",
   "metadata": {},
   "outputs": [
    {
     "name": "stdout",
     "output_type": "stream",
     "text": [
      "Chennai\n",
      "Bangalore\n",
      "Hyderabad\n",
      "Pune\n",
      "Gurgoan\n"
     ]
    }
   ],
   "source": [
    "with open('tech4.txt','w+') as fo:\n",
    "    fo.writelines(['Chennai\\n','Bangalore\\n','Hyderabad\\n','Pune\\n','Gurgoan'])\n",
    "    fo.seek(0,0)\n",
    "    print(fo.read())"
   ]
  },
  {
   "cell_type": "code",
   "execution_count": 19,
   "id": "1dd3b3ae",
   "metadata": {},
   "outputs": [
    {
     "ename": "FileNotFoundError",
     "evalue": "[Errno 2] No such file or directory: 'C:\\\\Users\\\\JHANSI\\\\Documents\\\\GitHub\\\\cognixia_bigdata\\\\tech1'",
     "output_type": "error",
     "traceback": [
      "\u001b[1;31m---------------------------------------------------------------------------\u001b[0m",
      "\u001b[1;31mFileNotFoundError\u001b[0m                         Traceback (most recent call last)",
      "Input \u001b[1;32mIn [19]\u001b[0m, in \u001b[0;36m<cell line: 1>\u001b[1;34m()\u001b[0m\n\u001b[1;32m----> 1\u001b[0m \u001b[38;5;28;01mwith\u001b[39;00m \u001b[38;5;28;43mopen\u001b[39;49m\u001b[43m(\u001b[49m\u001b[38;5;124;43mr\u001b[39;49m\u001b[38;5;124;43m'\u001b[39;49m\u001b[38;5;124;43mC:\u001b[39;49m\u001b[38;5;124;43m\\\u001b[39;49m\u001b[38;5;124;43mUsers\u001b[39;49m\u001b[38;5;124;43m\\\u001b[39;49m\u001b[38;5;124;43mJHANSI\u001b[39;49m\u001b[38;5;124;43m\\\u001b[39;49m\u001b[38;5;124;43mDocuments\u001b[39;49m\u001b[38;5;124;43m\\\u001b[39;49m\u001b[38;5;124;43mGitHub\u001b[39;49m\u001b[38;5;124;43m\\\u001b[39;49m\u001b[38;5;124;43mcognixia_bigdata\u001b[39;49m\u001b[38;5;124;43m\\\u001b[39;49m\u001b[38;5;124;43mtech1\u001b[39;49m\u001b[38;5;124;43m'\u001b[39;49m\u001b[43m,\u001b[49m\u001b[38;5;124;43m'\u001b[39;49m\u001b[38;5;124;43mrb\u001b[39;49m\u001b[38;5;124;43m'\u001b[39;49m\u001b[43m)\u001b[49m \u001b[38;5;28;01mas\u001b[39;00m fh:\n\u001b[0;32m      2\u001b[0m     \u001b[38;5;28;01mwith\u001b[39;00m \u001b[38;5;28mopen\u001b[39m(\u001b[38;5;124mr\u001b[39m\u001b[38;5;124m'\u001b[39m\u001b[38;5;124mC:\u001b[39m\u001b[38;5;124m\\\u001b[39m\u001b[38;5;124mUsers\u001b[39m\u001b[38;5;124m\\\u001b[39m\u001b[38;5;124mJHANSI\u001b[39m\u001b[38;5;124m\\\u001b[39m\u001b[38;5;124mDocuments\u001b[39m\u001b[38;5;124m\\\u001b[39m\u001b[38;5;124mGitHub\u001b[39m\u001b[38;5;124m\\\u001b[39m\u001b[38;5;124mcognixia_bigdata\u001b[39m\u001b[38;5;124m\\\u001b[39m\u001b[38;5;124mtech2\u001b[39m\u001b[38;5;124m'\u001b[39m,\u001b[38;5;124m'\u001b[39m\u001b[38;5;124mwb\u001b[39m\u001b[38;5;124m'\u001b[39m) \u001b[38;5;28;01mas\u001b[39;00m wfh:\n\u001b[0;32m      3\u001b[0m         wfh\u001b[38;5;241m.\u001b[39mwrite(fh\u001b[38;5;241m.\u001b[39mread())\n",
      "\u001b[1;31mFileNotFoundError\u001b[0m: [Errno 2] No such file or directory: 'C:\\\\Users\\\\JHANSI\\\\Documents\\\\GitHub\\\\cognixia_bigdata\\\\tech1'"
     ]
    }
   ],
   "source": [
    "with open(r'C:\\Users\\JHANSI\\Documents\\GitHub\\cognixia_bigdata\\tech1','rb') as fh:\n",
    "    with open(r'C:\\Users\\JHANSI\\Documents\\GitHub\\cognixia_bigdata\\tech2','wb') as wfh:\n",
    "        wfh.write(fh.read())"
   ]
  },
  {
   "cell_type": "code",
   "execution_count": null,
   "id": "27747bff",
   "metadata": {},
   "outputs": [],
   "source": []
  }
 ],
 "metadata": {
  "kernelspec": {
   "display_name": "Python 3 (ipykernel)",
   "language": "python",
   "name": "python3"
  },
  "language_info": {
   "codemirror_mode": {
    "name": "ipython",
    "version": 3
   },
   "file_extension": ".py",
   "mimetype": "text/x-python",
   "name": "python",
   "nbconvert_exporter": "python",
   "pygments_lexer": "ipython3",
   "version": "3.8.10"
  }
 },
 "nbformat": 4,
 "nbformat_minor": 5
}
