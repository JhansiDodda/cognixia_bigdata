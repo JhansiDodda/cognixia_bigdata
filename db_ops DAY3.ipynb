{
 "cells": [
  {
   "cell_type": "code",
   "execution_count": 1,
   "id": "12975370",
   "metadata": {},
   "outputs": [],
   "source": [
    "import sqlite3\n",
    "\n",
    "dbh=sqlite3.connect('cognixia.db')\n",
    "c=dbh.cursor()"
   ]
  },
  {
   "cell_type": "code",
   "execution_count": 2,
   "id": "a2eb89dd",
   "metadata": {},
   "outputs": [],
   "source": [
    "def create_table():\n",
    "    c.execute(\"CREATE TABLE IF NOT EXISTS employee( empname TEXT, tech TEXT, exp TEXT)\")\n",
    "def load_data():\n",
    "    #c.execute(\"INSERT INTO employee VALUES('Raghul Ramesh','Python',17)\")\n",
    "    #c.execute(\"INSERT INTO employee VALUES('Kathir V','Hadoop',10)\")\n",
    "    e_name=input(\"Enter your name:\")\n",
    "    e_tech=input(\"Enter your skill:\")\n",
    "    e_exp=input(\"Enter your experience:\")\n",
    "    c.execute(\"INSERT INTO employee VALUES(?,?,?)\",(e_name,e_tech,e_exp))\n",
    "    dbh.commit()\n",
    "def update_data():\n",
    "    c.execute(\"UPDATE employee SET tech='Perl' , exp='12' WHERE empname='Vijay'\")\n",
    "    dbh.commit()\n",
    "    c.close()\n",
    "    dbh.close()\n",
    "def delete_data():\n",
    "    c.execute(\"DELETE FROM employee WHERE empname='Venkatesh'\")\n",
    "    dbh.commit()\n",
    "    c.close()\n",
    "    dbh.close()\n",
    "def fetch_data():\n",
    "    c.execute(\"SELECT * FROM employee\")"
   ]
  },
  {
   "cell_type": "code",
   "execution_count": null,
   "id": "c4a28733",
   "metadata": {},
   "outputs": [],
   "source": [
    " \"\"\"\n",
    "    fetchone\n",
    "    fetchmany\n",
    "    fetchall\n",
    "    \"\"\"\n",
    "    #print(c.fetchone())\n",
    "    #print(c.fetchmany(5))\n",
    "    for row in c.fetchall():\n",
    "        if row[0] != '':\n",
    "            print(row[0]+' --> '+   row[1] + ' ---> ' + str(row[-1]))\n",
    "    # print(c.fetchall())\n",
    "#create_table()\n",
    "# for x in range(5):\n",
    "#     load_data()\n",
    "# c.close()\n",
    "# dbh.close()\n",
    "\n",
    "#update_data()\n",
    "#delete_data()\n",
    "fetch_data()"
   ]
  }
 ],
 "metadata": {
  "kernelspec": {
   "display_name": "Python 3 (ipykernel)",
   "language": "python",
   "name": "python3"
  },
  "language_info": {
   "codemirror_mode": {
    "name": "ipython",
    "version": 3
   },
   "file_extension": ".py",
   "mimetype": "text/x-python",
   "name": "python",
   "nbconvert_exporter": "python",
   "pygments_lexer": "ipython3",
   "version": "3.8.10"
  }
 },
 "nbformat": 4,
 "nbformat_minor": 5
}
