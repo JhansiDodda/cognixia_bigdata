{
 "cells": [
  {
   "cell_type": "raw",
   "id": "6d29cfb4",
   "metadata": {},
   "source": [
    "#########  1  ################\n",
    "# '''1. What will be the output of the following code snippet?\n",
    "# a=[1,2,3,4,5,6,7,8,9]\n",
    "# print(a[::2])\n",
    "# A. [1,2]\n",
    "# B. [8,9]\n",
    "# C. [1,3,5,7,9]\n",
    "# D. [1,2,3]'''"
   ]
  },
  {
   "cell_type": "code",
   "execution_count": 3,
   "id": "485c0505",
   "metadata": {},
   "outputs": [
    {
     "name": "stdout",
     "output_type": "stream",
     "text": [
      "Enter list size:3\n",
      "1\n"
     ]
    },
    {
     "ename": "AttributeError",
     "evalue": "'list' object has no attribute 'appned'",
     "output_type": "error",
     "traceback": [
      "\u001b[1;31m---------------------------------------------------------------------------\u001b[0m",
      "\u001b[1;31mAttributeError\u001b[0m                            Traceback (most recent call last)",
      "Input \u001b[1;32mIn [3]\u001b[0m, in \u001b[0;36m<cell line: 4>\u001b[1;34m()\u001b[0m\n\u001b[0;32m      4\u001b[0m \u001b[38;5;28;01mfor\u001b[39;00m i \u001b[38;5;129;01min\u001b[39;00m \u001b[38;5;28mrange\u001b[39m(\u001b[38;5;241m0\u001b[39m,n):\n\u001b[0;32m      5\u001b[0m     item\u001b[38;5;241m=\u001b[39m\u001b[38;5;28mint\u001b[39m(\u001b[38;5;28minput\u001b[39m())\n\u001b[1;32m----> 6\u001b[0m     \u001b[43mlist1\u001b[49m\u001b[38;5;241;43m.\u001b[39;49m\u001b[43mappned\u001b[49m(item)\n\u001b[0;32m      7\u001b[0m \u001b[38;5;28mprint\u001b[39m(list1)\n",
      "\u001b[1;31mAttributeError\u001b[0m: 'list' object has no attribute 'appned'"
     ]
    }
   ],
   "source": [
    "list1=[]\n",
    "c=0\n",
    "n=int(input(\"Enter list size:\"))\n",
    "for i in range(0,n):\n",
    "    item=int(input())\n",
    "    list1.appned(item)\n",
    "print(list1)\n",
    "    "
   ]
  },
  {
   "cell_type": "code",
   "execution_count": 1,
   "id": "f39d6b74",
   "metadata": {},
   "outputs": [
    {
     "name": "stdout",
     "output_type": "stream",
     "text": [
      "[1, 3, 5, 7, 9]\n"
     ]
    }
   ],
   "source": [
    "a=[1,2,3,4,5,6,7,8,9]\n",
    "print(a[::2])    #from start to end with step size 2"
   ]
  },
  {
   "cell_type": "code",
   "execution_count": 9,
   "id": "6934a4eb",
   "metadata": {},
   "outputs": [
    {
     "name": "stdout",
     "output_type": "stream",
     "text": [
      "1 2\n",
      "1 3\n",
      "1 2\n",
      "1 1\n",
      "2 2\n",
      "2 3\n",
      "2 2\n",
      "2 1\n",
      "3 2\n",
      "3 3\n",
      "3 2\n",
      "3 1\n",
      "2 2\n",
      "2 3\n",
      "2 2\n",
      "2 1\n",
      "1 2\n",
      "1 3\n",
      "1 2\n",
      "1 1\n",
      "4\n"
     ]
    }
   ],
   "source": [
    "c=0\n",
    "A=[1,2,3,2,1]\n",
    "B=5\n",
    "a=len(A)\n",
    "for i in range(0,a):\n",
    "    for j in range(1,a):\n",
    "        print(A[i],A[j])\n",
    "        if A[i]+A[j]==B:\n",
    "            c=c+1\n",
    "print(c)"
   ]
  },
  {
   "cell_type": "raw",
   "id": "9b5dd6ae",
   "metadata": {},
   "source": [
    "#############  2 ################\n",
    "# 2. What are the ways you can create a lists and tuples?"
   ]
  },
  {
   "cell_type": "code",
   "execution_count": 11,
   "id": "d39612d7",
   "metadata": {},
   "outputs": [],
   "source": [
    "A=[1,2,3,2,1]\n",
    "B=[1,2,1]\n"
   ]
  },
  {
   "cell_type": "code",
   "execution_count": 12,
   "id": "adf27409",
   "metadata": {},
   "outputs": [],
   "source": [
    "N=len(A)\n",
    "M=len(B)"
   ]
  },
  {
   "cell_type": "code",
   "execution_count": 13,
   "id": "8b1958bb",
   "metadata": {},
   "outputs": [
    {
     "data": {
      "text/plain": [
       "{1, 2, 3}"
      ]
     },
     "execution_count": 13,
     "metadata": {},
     "output_type": "execute_result"
    }
   ],
   "source": [
    "A1=set(A)\n",
    "A1"
   ]
  },
  {
   "cell_type": "code",
   "execution_count": 16,
   "id": "f020332f",
   "metadata": {},
   "outputs": [],
   "source": [
    "A1=list(A1)"
   ]
  },
  {
   "cell_type": "code",
   "execution_count": 17,
   "id": "b1e38256",
   "metadata": {},
   "outputs": [
    {
     "data": {
      "text/plain": [
       "[1, 2, 3]"
      ]
     },
     "execution_count": 17,
     "metadata": {},
     "output_type": "execute_result"
    }
   ],
   "source": [
    "A1"
   ]
  },
  {
   "cell_type": "code",
   "execution_count": 18,
   "id": "8cfc203c",
   "metadata": {},
   "outputs": [
    {
     "data": {
      "text/plain": [
       "[1, 2]"
      ]
     },
     "execution_count": 18,
     "metadata": {},
     "output_type": "execute_result"
    }
   ],
   "source": [
    "B1=set(B)\n",
    "B1=list(B1)\n",
    "B1"
   ]
  },
  {
   "cell_type": "code",
   "execution_count": 25,
   "id": "33485118",
   "metadata": {},
   "outputs": [],
   "source": [
    "l=[]"
   ]
  },
  {
   "cell_type": "code",
   "execution_count": 26,
   "id": "08ea4dc6",
   "metadata": {},
   "outputs": [
    {
     "ename": "AttributeError",
     "evalue": "'list' object has no attribute 'appned'",
     "output_type": "error",
     "traceback": [
      "\u001b[1;31m---------------------------------------------------------------------------\u001b[0m",
      "\u001b[1;31mAttributeError\u001b[0m                            Traceback (most recent call last)",
      "Input \u001b[1;32mIn [26]\u001b[0m, in \u001b[0;36m<cell line: 1>\u001b[1;34m()\u001b[0m\n\u001b[1;32m----> 1\u001b[0m \u001b[43ml\u001b[49m\u001b[38;5;241;43m.\u001b[39;49m\u001b[43mappned\u001b[49m(\u001b[38;5;241m3\u001b[39m,\u001b[38;5;241m2\u001b[39m)\n",
      "\u001b[1;31mAttributeError\u001b[0m: 'list' object has no attribute 'appned'"
     ]
    }
   ],
   "source": [
    "l.appned(3,2)"
   ]
  },
  {
   "cell_type": "code",
   "execution_count": 28,
   "id": "48cad105",
   "metadata": {},
   "outputs": [
    {
     "name": "stdout",
     "output_type": "stream",
     "text": [
      "[1, 2, 2]\n"
     ]
    }
   ],
   "source": [
    "A=[1,2,2,1]\n",
    "B=[2,3,1,2]\n",
    "l=[]\n",
    "A1=set(A)\n",
    "A1=list(A1)\n",
    "B1=set(B1)\n",
    "B1=list(B1)\n",
    "n=len(A1)\n",
    "m=len(B1)\n",
    "for i in range(0,n):\n",
    "    p=A1[i]\n",
    "    c1=A.count(p)\n",
    "    c2=B.count(p)\n",
    "    if c1<c2:\n",
    "        c=c1\n",
    "    else:\n",
    "        c=c2\n",
    "    for i in range(0,c):\n",
    "        l.append(p)\n",
    "print(l)"
   ]
  },
  {
   "cell_type": "code",
   "execution_count": null,
   "id": "8f739589",
   "metadata": {},
   "outputs": [],
   "source": []
  },
  {
   "cell_type": "code",
   "execution_count": 23,
   "id": "6c5cd85a",
   "metadata": {},
   "outputs": [],
   "source": [
    "p=B1[0]"
   ]
  },
  {
   "cell_type": "code",
   "execution_count": 24,
   "id": "76b7f768",
   "metadata": {},
   "outputs": [
    {
     "data": {
      "text/plain": [
       "1"
      ]
     },
     "execution_count": 24,
     "metadata": {},
     "output_type": "execute_result"
    }
   ],
   "source": [
    "B1.count(p)"
   ]
  },
  {
   "cell_type": "code",
   "execution_count": null,
   "id": "4a2f4faa",
   "metadata": {},
   "outputs": [],
   "source": []
  },
  {
   "cell_type": "code",
   "execution_count": 15,
   "id": "fcaad8e4",
   "metadata": {},
   "outputs": [],
   "source": [
    "list1=[]\n",
    "list2=[1,2,3]\n",
    "tuple1=()"
   ]
  },
  {
   "cell_type": "code",
   "execution_count": 18,
   "id": "ea3c817d",
   "metadata": {},
   "outputs": [
    {
     "data": {
      "text/plain": [
       "tuple"
      ]
     },
     "execution_count": 18,
     "metadata": {},
     "output_type": "execute_result"
    }
   ],
   "source": [
    "type(tuple1)"
   ]
  },
  {
   "cell_type": "code",
   "execution_count": 16,
   "id": "11da0149",
   "metadata": {},
   "outputs": [
    {
     "data": {
      "text/plain": [
       "list"
      ]
     },
     "execution_count": 16,
     "metadata": {},
     "output_type": "execute_result"
    }
   ],
   "source": [
    "type(list2)"
   ]
  },
  {
   "cell_type": "raw",
   "id": "2bc5d6c1",
   "metadata": {},
   "source": [
    "############## 3 ################\n",
    "#3. Can lists and tuples have heterogeneous and hemogeneous data objects? Give me an example?\n",
    "#Both list and tuplecan can contain heterogeneous and homogeneous data objects"
   ]
  },
  {
   "cell_type": "code",
   "execution_count": 2,
   "id": "f933c960",
   "metadata": {},
   "outputs": [],
   "source": [
    "list1=[1,2,3]\n",
    "list2=[1,'a',[2,3]]"
   ]
  },
  {
   "cell_type": "code",
   "execution_count": 3,
   "id": "ecf93291",
   "metadata": {},
   "outputs": [],
   "source": [
    "tuple1=(1,2,3)\n",
    "tuple2=(1,'a',(2,3))"
   ]
  },
  {
   "cell_type": "code",
   "execution_count": 6,
   "id": "cfedf987",
   "metadata": {},
   "outputs": [
    {
     "data": {
      "text/plain": [
       "tuple"
      ]
     },
     "execution_count": 6,
     "metadata": {},
     "output_type": "execute_result"
    }
   ],
   "source": [
    "type(tuple2)"
   ]
  },
  {
   "cell_type": "raw",
   "id": "ba95ee9e",
   "metadata": {},
   "source": [
    "#########   4 ####################\n",
    "# 4. List out the differences between a list and a tuple?\n",
    "# a.list in enclosed within square braces \"[]\" where as tuple is emxlosed with \"()\"\n",
    "# b.list occupies more memeory than tuple\n",
    "#c. list takes longer time than tuple\n",
    "# d. List is mutable whereas tuple is immutable"
   ]
  },
  {
   "cell_type": "raw",
   "id": "8d60add6",
   "metadata": {},
   "source": [
    "################  5  ##################\n",
    "# 5. How to determine the size of your lists?"
   ]
  },
  {
   "cell_type": "code",
   "execution_count": 7,
   "id": "6fd7f866",
   "metadata": {},
   "outputs": [
    {
     "data": {
      "text/plain": [
       "5"
      ]
     },
     "execution_count": 7,
     "metadata": {},
     "output_type": "execute_result"
    }
   ],
   "source": [
    "list1=[1,2,3,'a',[3,5]]\n",
    "len(list1)    #size is found by len(i.e length)"
   ]
  },
  {
   "cell_type": "raw",
   "id": "598e1902",
   "metadata": {},
   "source": [
    "################  6  ####################\n",
    "#6. Consider the below list:\n",
    "#lst = [10, 20, [30, [40, 50], 60], 70, [80]]\n",
    "#Take out the elements 60, 80 by using the corresponding index values and add the numbers, \n",
    "#display the result?"
   ]
  },
  {
   "cell_type": "code",
   "execution_count": 19,
   "id": "9808ced4",
   "metadata": {},
   "outputs": [],
   "source": [
    "lst=[10, 20, [30, [40, 50], 60], 70, [80]]\n",
    "result=lst[2].pop(2)+lst[4].pop(0)"
   ]
  },
  {
   "cell_type": "code",
   "execution_count": 20,
   "id": "1b4be08f",
   "metadata": {},
   "outputs": [
    {
     "data": {
      "text/plain": [
       "[10, 20, [30, [40, 50]], 70, []]"
      ]
     },
     "execution_count": 20,
     "metadata": {},
     "output_type": "execute_result"
    }
   ],
   "source": [
    "lst"
   ]
  },
  {
   "cell_type": "code",
   "execution_count": 21,
   "id": "82e50c03",
   "metadata": {},
   "outputs": [
    {
     "data": {
      "text/plain": [
       "140"
      ]
     },
     "execution_count": 21,
     "metadata": {},
     "output_type": "execute_result"
    }
   ],
   "source": [
    "result"
   ]
  },
  {
   "cell_type": "raw",
   "id": "050b1bb0",
   "metadata": {},
   "source": [
    "############  7  #################\n",
    "# 7. What is the difference between append() and extend()? How do they work? Demonstrate with an example?\n",
    "\n",
    "# Both append() and extend() are used to add elements to the list but append takes only 1 argument \n",
    "# where as extend takes multiple arguments."
   ]
  },
  {
   "cell_type": "code",
   "execution_count": 22,
   "id": "3a0fa46d",
   "metadata": {},
   "outputs": [],
   "source": [
    "list1=[1,2,3]\n",
    "list1.append(4)"
   ]
  },
  {
   "cell_type": "code",
   "execution_count": 24,
   "id": "2002e705",
   "metadata": {},
   "outputs": [
    {
     "data": {
      "text/plain": [
       "[1, 2, 3, 4]"
      ]
     },
     "execution_count": 24,
     "metadata": {},
     "output_type": "execute_result"
    }
   ],
   "source": [
    "list1\n",
    "#list1.append(9,10)  # will throw error as it expects only 1 argument"
   ]
  },
  {
   "cell_type": "code",
   "execution_count": 25,
   "id": "819d0e44",
   "metadata": {},
   "outputs": [
    {
     "data": {
      "text/plain": [
       "[1, 2, 3, 4, 9, 10]"
      ]
     },
     "execution_count": 25,
     "metadata": {},
     "output_type": "execute_result"
    }
   ],
   "source": [
    "list1.extend([9,10])\n",
    "list1"
   ]
  },
  {
   "cell_type": "raw",
   "id": "00b74cbd",
   "metadata": {},
   "source": [
    "#############  8  ##################\n",
    "# 8. How to concatenate lists?"
   ]
  },
  {
   "cell_type": "code",
   "execution_count": 26,
   "id": "e7e24bb4",
   "metadata": {},
   "outputs": [
    {
     "data": {
      "text/plain": [
       "[1, 2, 3, 2, 3, 4]"
      ]
     },
     "execution_count": 26,
     "metadata": {},
     "output_type": "execute_result"
    }
   ],
   "source": [
    "l1=[1,2,3]\n",
    "l2=[2,3,4]\n",
    "l3=l1+l2\n",
    "l3  # l1 values followed by l2 values"
   ]
  },
  {
   "cell_type": "raw",
   "id": "bb02a7db",
   "metadata": {},
   "source": [
    "##############  9   ###############\n",
    "# 9. How to sort a list?"
   ]
  },
  {
   "cell_type": "code",
   "execution_count": 28,
   "id": "166af207",
   "metadata": {},
   "outputs": [
    {
     "data": {
      "text/plain": [
       "[3, 4, 9, 17, 35, 66, 99]"
      ]
     },
     "execution_count": 28,
     "metadata": {},
     "output_type": "execute_result"
    }
   ],
   "source": [
    "list1=[3,9,4,66,17,35,99]\n",
    "list1.sort(reverse=False)  # reverse=True for descending order\n",
    "list1"
   ]
  },
  {
   "cell_type": "raw",
   "id": "cf5dde8f",
   "metadata": {},
   "source": [
    "#############  10  #################\n",
    "# 10.How to count occurances of a list item?"
   ]
  },
  {
   "cell_type": "code",
   "execution_count": 29,
   "id": "0c8c08aa",
   "metadata": {},
   "outputs": [
    {
     "data": {
      "text/plain": [
       "3"
      ]
     },
     "execution_count": 29,
     "metadata": {},
     "output_type": "execute_result"
    }
   ],
   "source": [
    "list3=[1,4,6,8,2,3,5,2,5,1,5,3,3,9]\n",
    "list3.count(5)"
   ]
  },
  {
   "cell_type": "raw",
   "id": "4852db3b",
   "metadata": {},
   "source": [
    "###########  11   ##################\n",
    "# 11.How do you remove an element from a list?\n",
    "\n",
    "# can be done in 2 ways- through value or index"
   ]
  },
  {
   "cell_type": "code",
   "execution_count": 30,
   "id": "9903449c",
   "metadata": {},
   "outputs": [
    {
     "data": {
      "text/plain": [
       "[1, 4, 6, 8, 2, 3, 5, 2, 5, 1, 5, 3, 3, 9]"
      ]
     },
     "execution_count": 30,
     "metadata": {},
     "output_type": "execute_result"
    }
   ],
   "source": [
    "list3"
   ]
  },
  {
   "cell_type": "code",
   "execution_count": 31,
   "id": "0d43ad46",
   "metadata": {},
   "outputs": [],
   "source": [
    "list3.remove(2)   # removes the first occurence of mentioned value"
   ]
  },
  {
   "cell_type": "code",
   "execution_count": 32,
   "id": "fa6fc527",
   "metadata": {},
   "outputs": [
    {
     "data": {
      "text/plain": [
       "[1, 4, 6, 8, 3, 5, 2, 5, 1, 5, 3, 3, 9]"
      ]
     },
     "execution_count": 32,
     "metadata": {},
     "output_type": "execute_result"
    }
   ],
   "source": [
    "list3"
   ]
  },
  {
   "cell_type": "code",
   "execution_count": 33,
   "id": "7232abac",
   "metadata": {},
   "outputs": [
    {
     "data": {
      "text/plain": [
       "8"
      ]
     },
     "execution_count": 33,
     "metadata": {},
     "output_type": "execute_result"
    }
   ],
   "source": [
    "list3.pop(3)   # takes index as input"
   ]
  },
  {
   "cell_type": "code",
   "execution_count": null,
   "id": "8f8587a3",
   "metadata": {},
   "outputs": [],
   "source": [
    "############   12   ###################\n",
    "# 12.Consider the below list:\n",
    "# lst = [10, 20, 30, 40, 50, 60, 70, 80]\n",
    "# Help me to insert 15 in between 10 and 20, 45 in between 40 and 50"
   ]
  },
  {
   "cell_type": "code",
   "execution_count": 38,
   "id": "11c33967",
   "metadata": {},
   "outputs": [],
   "source": [
    "lst = [10, 20, 30, 40, 50, 60, 70, 80]\n",
    "lst.insert(1,15)"
   ]
  },
  {
   "cell_type": "code",
   "execution_count": 39,
   "id": "8ed36a39",
   "metadata": {},
   "outputs": [
    {
     "data": {
      "text/plain": [
       "[10, 15, 20, 30, 40, 50, 60, 70, 80]"
      ]
     },
     "execution_count": 39,
     "metadata": {},
     "output_type": "execute_result"
    }
   ],
   "source": [
    "lst"
   ]
  },
  {
   "cell_type": "code",
   "execution_count": 36,
   "id": "4ef93336",
   "metadata": {},
   "outputs": [],
   "source": [
    "lst.insert(5,45)"
   ]
  },
  {
   "cell_type": "code",
   "execution_count": 37,
   "id": "f69015ae",
   "metadata": {},
   "outputs": [
    {
     "data": {
      "text/plain": [
       "[10, 15, 20, 30, 40, 45, 50, 60, 70, 80]"
      ]
     },
     "execution_count": 37,
     "metadata": {},
     "output_type": "execute_result"
    }
   ],
   "source": [
    "lst"
   ]
  },
  {
   "cell_type": "raw",
   "id": "cce35701",
   "metadata": {},
   "source": [
    "################  13   ##################\n",
    "# 13.How do you copy a list from another? \n",
    "# we need to import copy package and can use either shallow copy or deep copy\n",
    "\n",
    "#############  14   ################\n",
    "# 14. Demonstrate the difference between shallow and deep copy? How do they work?\n",
    "# shallow copy has effect on inner list where as deep copy has no effect on inner list as well"
   ]
  },
  {
   "cell_type": "code",
   "execution_count": 44,
   "id": "1728a655",
   "metadata": {},
   "outputs": [],
   "source": [
    "lst=[1,2,[3,4]]\n",
    "lst_bk=lst"
   ]
  },
  {
   "cell_type": "code",
   "execution_count": 45,
   "id": "414107d4",
   "metadata": {},
   "outputs": [
    {
     "data": {
      "text/plain": [
       "[1, 2, [3, 4]]"
      ]
     },
     "execution_count": 45,
     "metadata": {},
     "output_type": "execute_result"
    }
   ],
   "source": [
    "lst_bk"
   ]
  },
  {
   "cell_type": "code",
   "execution_count": 46,
   "id": "56545aad",
   "metadata": {},
   "outputs": [
    {
     "data": {
      "text/plain": [
       "[1, 2, [3, 4, 10]]"
      ]
     },
     "execution_count": 46,
     "metadata": {},
     "output_type": "execute_result"
    }
   ],
   "source": [
    "import copy\n",
    "s_cp=copy.copy(lst)\n",
    "lst[2].append(10)\n",
    "lst"
   ]
  },
  {
   "cell_type": "code",
   "execution_count": 47,
   "id": "ee762d97",
   "metadata": {},
   "outputs": [
    {
     "data": {
      "text/plain": [
       "[1, 2, [3, 4, 10]]"
      ]
     },
     "execution_count": 47,
     "metadata": {},
     "output_type": "execute_result"
    }
   ],
   "source": [
    "s_cp"
   ]
  },
  {
   "cell_type": "code",
   "execution_count": 48,
   "id": "a9bebb4e",
   "metadata": {},
   "outputs": [
    {
     "data": {
      "text/plain": [
       "[1, 2, [3, 4, 10, 11]]"
      ]
     },
     "execution_count": 48,
     "metadata": {},
     "output_type": "execute_result"
    }
   ],
   "source": [
    "d_cp=copy.deepcopy(lst)\n",
    "lst[2].append(11)\n",
    "lst"
   ]
  },
  {
   "cell_type": "code",
   "execution_count": 49,
   "id": "ca70d7d7",
   "metadata": {},
   "outputs": [
    {
     "data": {
      "text/plain": [
       "[1, 2, [3, 4, 10]]"
      ]
     },
     "execution_count": 49,
     "metadata": {},
     "output_type": "execute_result"
    }
   ],
   "source": [
    "d_cp"
   ]
  },
  {
   "cell_type": "raw",
   "id": "87d4f368",
   "metadata": {},
   "source": [
    "#############   15    ##################\n",
    "# 15.Consider the below list:\n",
    "# lst = [10, 20, 30, 40, 50, 60, 70, 80]\n",
    "# How do you sort the list in descending order?"
   ]
  },
  {
   "cell_type": "code",
   "execution_count": 50,
   "id": "41b3abc0",
   "metadata": {},
   "outputs": [
    {
     "data": {
      "text/plain": [
       "[80, 70, 60, 50, 40, 30, 20, 10]"
      ]
     },
     "execution_count": 50,
     "metadata": {},
     "output_type": "execute_result"
    }
   ],
   "source": [
    "lst = [10, 20, 30, 40, 50, 60, 70, 80]\n",
    "lst.sort(reverse=True)\n",
    "lst"
   ]
  },
  {
   "cell_type": "raw",
   "id": "bf578baa",
   "metadata": {},
   "source": [
    "#############   16  ##################\n",
    "# 16. Consider the below list:\n",
    "# lst = [10, 20, 30, 40, 50, 60, 70, 80]\n",
    "# What will be output of the below:\n",
    "# lst.index(100)"
   ]
  },
  {
   "cell_type": "code",
   "execution_count": 53,
   "id": "b9d3436f",
   "metadata": {},
   "outputs": [
    {
     "data": {
      "text/plain": [
       "7"
      ]
     },
     "execution_count": 53,
     "metadata": {},
     "output_type": "execute_result"
    }
   ],
   "source": [
    "lst = [10, 20, 30, 40, 50, 60, 70, 80]\n",
    "# lst.index(100)  -- would throw error as it no value in index '100'\n",
    "lst.index(80)"
   ]
  },
  {
   "cell_type": "code",
   "execution_count": 55,
   "id": "f539cb4f",
   "metadata": {},
   "outputs": [
    {
     "ename": "AttributeError",
     "evalue": "'list' object has no attribute 'find'",
     "output_type": "error",
     "traceback": [
      "\u001b[1;31m---------------------------------------------------------------------------\u001b[0m",
      "\u001b[1;31mAttributeError\u001b[0m                            Traceback (most recent call last)",
      "Input \u001b[1;32mIn [55]\u001b[0m, in \u001b[0;36m<cell line: 1>\u001b[1;34m()\u001b[0m\n\u001b[1;32m----> 1\u001b[0m \u001b[43mlst\u001b[49m\u001b[38;5;241;43m.\u001b[39;49m\u001b[43mfind\u001b[49m(\u001b[38;5;241m10\u001b[39m)\n",
      "\u001b[1;31mAttributeError\u001b[0m: 'list' object has no attribute 'find'"
     ]
    }
   ],
   "source": [
    "lst.find(10)"
   ]
  },
  {
   "cell_type": "raw",
   "id": "8e0aeeea",
   "metadata": {},
   "source": [
    "#################   17   #########################\n",
    "# 17.How do you find minimum and maximum element/number of a list?"
   ]
  },
  {
   "cell_type": "code",
   "execution_count": 59,
   "id": "084783f4",
   "metadata": {},
   "outputs": [
    {
     "data": {
      "text/plain": [
       "10"
      ]
     },
     "execution_count": 59,
     "metadata": {},
     "output_type": "execute_result"
    }
   ],
   "source": [
    "lst=[10,100,30]\n",
    "min(lst)"
   ]
  },
  {
   "cell_type": "code",
   "execution_count": 60,
   "id": "0895ded0",
   "metadata": {},
   "outputs": [
    {
     "data": {
      "text/plain": [
       "100"
      ]
     },
     "execution_count": 60,
     "metadata": {},
     "output_type": "execute_result"
    }
   ],
   "source": [
    "max(lst)"
   ]
  },
  {
   "cell_type": "raw",
   "id": "e24d64a2",
   "metadata": {},
   "source": [
    "#######################   18    #############################\n",
    "# 18.Create a list as below:\n",
    "# [‘Python’, ‘is’, ‘a’, ‘high’, ‘level’, ‘language’]\n",
    "# For the above list, display the result as\n",
    "# ‘PYTHON-IS-A-HIGH-LEVEL-LANGUAGE’"
   ]
  },
  {
   "cell_type": "code",
   "execution_count": 61,
   "id": "26c85585",
   "metadata": {},
   "outputs": [
    {
     "data": {
      "text/plain": [
       "'PYTHON-IS-A-HIGH-LEVEL-LANGUAGE'"
      ]
     },
     "execution_count": 61,
     "metadata": {},
     "output_type": "execute_result"
    }
   ],
   "source": [
    "l1=['Python','is','a','high','level','language']\n",
    "'-'.join(l1).upper()"
   ]
  },
  {
   "cell_type": "raw",
   "id": "925a7c0e",
   "metadata": {},
   "source": [
    "######################   19   ########################\n",
    "# 19. Consider the below list:\n",
    "# lst = [10, 20, 30, 40, 50, 60, 70, 80, 90, 100, 110, 120, 130, 140, 150, 160, 170, 180, 190, 200]\n",
    "# Create 4 lists. First list having 10 to 50, the second one having 60 to 100 and third list with 110 \n",
    "# to 150 and fourth list with the remainin"
   ]
  },
  {
   "cell_type": "code",
   "execution_count": 62,
   "id": "b1fac5f6",
   "metadata": {},
   "outputs": [],
   "source": [
    "lst = [10, 20, 30, 40, 50, 60, 70, 80, 90, 100, 110, 120, 130, 140, 150, 160, 170, 180, 190, 200]\n",
    "lst1=lst[lst.index(10):lst.index(50)+1]"
   ]
  },
  {
   "cell_type": "code",
   "execution_count": 63,
   "id": "45e386bb",
   "metadata": {},
   "outputs": [
    {
     "data": {
      "text/plain": [
       "[10, 20, 30, 40, 50]"
      ]
     },
     "execution_count": 63,
     "metadata": {},
     "output_type": "execute_result"
    }
   ],
   "source": [
    "lst1"
   ]
  },
  {
   "cell_type": "code",
   "execution_count": 64,
   "id": "3d69c064",
   "metadata": {},
   "outputs": [],
   "source": [
    "lst2=lst[lst.index(60):lst.index(100)+1]\n",
    "lst3=lst[lst.index(110):lst.index(150)+1]\n",
    "lst4=lst[lst.index(160):]"
   ]
  },
  {
   "cell_type": "code",
   "execution_count": 65,
   "id": "4c6250b0",
   "metadata": {},
   "outputs": [
    {
     "data": {
      "text/plain": [
       "[60, 70, 80, 90, 100]"
      ]
     },
     "execution_count": 65,
     "metadata": {},
     "output_type": "execute_result"
    }
   ],
   "source": [
    "lst2"
   ]
  },
  {
   "cell_type": "code",
   "execution_count": 66,
   "id": "9f353740",
   "metadata": {},
   "outputs": [
    {
     "data": {
      "text/plain": [
       "[110, 120, 130, 140, 150]"
      ]
     },
     "execution_count": 66,
     "metadata": {},
     "output_type": "execute_result"
    }
   ],
   "source": [
    "lst3"
   ]
  },
  {
   "cell_type": "code",
   "execution_count": 67,
   "id": "df69d1ec",
   "metadata": {},
   "outputs": [
    {
     "data": {
      "text/plain": [
       "[160, 170, 180, 190, 200]"
      ]
     },
     "execution_count": 67,
     "metadata": {},
     "output_type": "execute_result"
    }
   ],
   "source": [
    "lst4"
   ]
  },
  {
   "cell_type": "raw",
   "id": "fa5e9ae7",
   "metadata": {},
   "source": [
    "###############   20   ##################\n",
    "# 20.List down all the methods used in list and tuple\n",
    "\n",
    "\n",
    "#list-  append,insert,remove,pop,sort,count,extend,copy,reverse,clear\n",
    "# Tuple- count,index"
   ]
  }
 ],
 "metadata": {
  "kernelspec": {
   "display_name": "Python 3 (ipykernel)",
   "language": "python",
   "name": "python3"
  },
  "language_info": {
   "codemirror_mode": {
    "name": "ipython",
    "version": 3
   },
   "file_extension": ".py",
   "mimetype": "text/x-python",
   "name": "python",
   "nbconvert_exporter": "python",
   "pygments_lexer": "ipython3",
   "version": "3.8.10"
  }
 },
 "nbformat": 4,
 "nbformat_minor": 5
}
