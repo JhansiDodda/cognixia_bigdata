{
 "cells": [
  {
   "cell_type": "markdown",
   "id": "3ed80670",
   "metadata": {},
   "source": [
    "# DICTIONARY"
   ]
  },
  {
   "cell_type": "code",
   "execution_count": null,
   "id": "34fd7e4a",
   "metadata": {},
   "outputs": [],
   "source": [
    "key value pairs of element\n",
    "key should be unique\n",
    "value can be anything\n",
    "only the immutable type can be a key"
   ]
  },
  {
   "cell_type": "code",
   "execution_count": 1,
   "id": "af20cd8d",
   "metadata": {},
   "outputs": [
    {
     "data": {
      "text/plain": [
       "dict"
      ]
     },
     "execution_count": 1,
     "metadata": {},
     "output_type": "execute_result"
    }
   ],
   "source": [
    "dict1={}\n",
    "type(dict1)"
   ]
  },
  {
   "cell_type": "code",
   "execution_count": 2,
   "id": "fed63cbb",
   "metadata": {},
   "outputs": [],
   "source": [
    "dict2=dict()"
   ]
  },
  {
   "cell_type": "code",
   "execution_count": 3,
   "id": "a1a428a2",
   "metadata": {},
   "outputs": [
    {
     "data": {
      "text/plain": [
       "dict"
      ]
     },
     "execution_count": 3,
     "metadata": {},
     "output_type": "execute_result"
    }
   ],
   "source": [
    "type(dict2)"
   ]
  },
  {
   "cell_type": "code",
   "execution_count": 4,
   "id": "c7c7b75e",
   "metadata": {},
   "outputs": [],
   "source": [
    "info={'name':'Raghul Ramesh',\n",
    "     'city':'Chennai',\n",
    "     'age':37,\n",
    "     1000:'Marks',\n",
    "     'tech':['Python','Bigdata','AI',['AWS','AZURE','GCP'],'DevOps','Oracle'],\n",
    "     'Manager':'Levin Lenus'}"
   ]
  },
  {
   "cell_type": "code",
   "execution_count": 5,
   "id": "62a0d4a7",
   "metadata": {},
   "outputs": [
    {
     "data": {
      "text/plain": [
       "'Raghul Ramesh'"
      ]
     },
     "execution_count": 5,
     "metadata": {},
     "output_type": "execute_result"
    }
   ],
   "source": [
    "info['name']"
   ]
  },
  {
   "cell_type": "code",
   "execution_count": 6,
   "id": "321e2d62",
   "metadata": {},
   "outputs": [
    {
     "data": {
      "text/plain": [
       "'Chennai'"
      ]
     },
     "execution_count": 6,
     "metadata": {},
     "output_type": "execute_result"
    }
   ],
   "source": [
    "info['city']"
   ]
  },
  {
   "cell_type": "code",
   "execution_count": 7,
   "id": "1b037389",
   "metadata": {},
   "outputs": [
    {
     "data": {
      "text/plain": [
       "['Python', 'Bigdata', 'AI', ['AWS', 'AZURE', 'GCP'], 'DevOps', 'Oracle']"
      ]
     },
     "execution_count": 7,
     "metadata": {},
     "output_type": "execute_result"
    }
   ],
   "source": [
    "info['tech']"
   ]
  },
  {
   "cell_type": "code",
   "execution_count": 8,
   "id": "57011a21",
   "metadata": {},
   "outputs": [
    {
     "ename": "KeyError",
     "evalue": "'salary'",
     "output_type": "error",
     "traceback": [
      "\u001b[1;31m---------------------------------------------------------------------------\u001b[0m",
      "\u001b[1;31mKeyError\u001b[0m                                  Traceback (most recent call last)",
      "Input \u001b[1;32mIn [8]\u001b[0m, in \u001b[0;36m<cell line: 1>\u001b[1;34m()\u001b[0m\n\u001b[1;32m----> 1\u001b[0m \u001b[43minfo\u001b[49m\u001b[43m[\u001b[49m\u001b[38;5;124;43m'\u001b[39;49m\u001b[38;5;124;43msalary\u001b[39;49m\u001b[38;5;124;43m'\u001b[39;49m\u001b[43m]\u001b[49m\n",
      "\u001b[1;31mKeyError\u001b[0m: 'salary'"
     ]
    }
   ],
   "source": [
    "info['salary']"
   ]
  },
  {
   "cell_type": "code",
   "execution_count": 9,
   "id": "e8a36973",
   "metadata": {},
   "outputs": [],
   "source": [
    "info['salary']=1000000"
   ]
  },
  {
   "cell_type": "code",
   "execution_count": 10,
   "id": "c9d7d686",
   "metadata": {},
   "outputs": [
    {
     "data": {
      "text/plain": [
       "{'name': 'Raghul Ramesh',\n",
       " 'city': 'Chennai',\n",
       " 'age': 37,\n",
       " 1000: 'Marks',\n",
       " 'tech': ['Python',\n",
       "  'Bigdata',\n",
       "  'AI',\n",
       "  ['AWS', 'AZURE', 'GCP'],\n",
       "  'DevOps',\n",
       "  'Oracle'],\n",
       " 'Manager': 'Levin Lenus',\n",
       " 'salary': 1000000}"
      ]
     },
     "execution_count": 10,
     "metadata": {},
     "output_type": "execute_result"
    }
   ],
   "source": [
    "info"
   ]
  },
  {
   "cell_type": "code",
   "execution_count": 11,
   "id": "0265fa66",
   "metadata": {},
   "outputs": [],
   "source": [
    "info['city']='Bangalore'"
   ]
  },
  {
   "cell_type": "code",
   "execution_count": 12,
   "id": "01fff283",
   "metadata": {},
   "outputs": [
    {
     "data": {
      "text/plain": [
       "{'name': 'Raghul Ramesh',\n",
       " 'city': 'Bangalore',\n",
       " 'age': 37,\n",
       " 1000: 'Marks',\n",
       " 'tech': ['Python',\n",
       "  'Bigdata',\n",
       "  'AI',\n",
       "  ['AWS', 'AZURE', 'GCP'],\n",
       "  'DevOps',\n",
       "  'Oracle'],\n",
       " 'Manager': 'Levin Lenus',\n",
       " 'salary': 1000000}"
      ]
     },
     "execution_count": 12,
     "metadata": {},
     "output_type": "execute_result"
    }
   ],
   "source": [
    "info"
   ]
  },
  {
   "cell_type": "code",
   "execution_count": 13,
   "id": "0c692552",
   "metadata": {},
   "outputs": [],
   "source": [
    "info.update({'city':'Hyderabad','Manager':'Ranga','BU':'E&R','Exp':17})"
   ]
  },
  {
   "cell_type": "code",
   "execution_count": 14,
   "id": "c6576065",
   "metadata": {},
   "outputs": [
    {
     "data": {
      "text/plain": [
       "{'name': 'Raghul Ramesh',\n",
       " 'city': 'Hyderabad',\n",
       " 'age': 37,\n",
       " 1000: 'Marks',\n",
       " 'tech': ['Python',\n",
       "  'Bigdata',\n",
       "  'AI',\n",
       "  ['AWS', 'AZURE', 'GCP'],\n",
       "  'DevOps',\n",
       "  'Oracle'],\n",
       " 'Manager': 'Ranga',\n",
       " 'salary': 1000000,\n",
       " 'BU': 'E&R',\n",
       " 'Exp': 17}"
      ]
     },
     "execution_count": 14,
     "metadata": {},
     "output_type": "execute_result"
    }
   ],
   "source": [
    "info"
   ]
  },
  {
   "cell_type": "code",
   "execution_count": 15,
   "id": "9174eb66",
   "metadata": {},
   "outputs": [
    {
     "data": {
      "text/plain": [
       "1000000"
      ]
     },
     "execution_count": 15,
     "metadata": {},
     "output_type": "execute_result"
    }
   ],
   "source": [
    "info.pop('salary')"
   ]
  },
  {
   "cell_type": "code",
   "execution_count": 16,
   "id": "a025473a",
   "metadata": {},
   "outputs": [
    {
     "data": {
      "text/plain": [
       "{'name': 'Raghul Ramesh',\n",
       " 'city': 'Hyderabad',\n",
       " 'age': 37,\n",
       " 1000: 'Marks',\n",
       " 'tech': ['Python',\n",
       "  'Bigdata',\n",
       "  'AI',\n",
       "  ['AWS', 'AZURE', 'GCP'],\n",
       "  'DevOps',\n",
       "  'Oracle'],\n",
       " 'Manager': 'Ranga',\n",
       " 'BU': 'E&R',\n",
       " 'Exp': 17}"
      ]
     },
     "execution_count": 16,
     "metadata": {},
     "output_type": "execute_result"
    }
   ],
   "source": [
    "info"
   ]
  },
  {
   "cell_type": "code",
   "execution_count": 17,
   "id": "332bd0de",
   "metadata": {},
   "outputs": [
    {
     "data": {
      "text/plain": [
       "('Exp', 17)"
      ]
     },
     "execution_count": 17,
     "metadata": {},
     "output_type": "execute_result"
    }
   ],
   "source": [
    "info.popitem()"
   ]
  },
  {
   "cell_type": "code",
   "execution_count": 18,
   "id": "8ce87859",
   "metadata": {},
   "outputs": [
    {
     "data": {
      "text/plain": [
       "{'name': 'Raghul Ramesh',\n",
       " 'city': 'Hyderabad',\n",
       " 'age': 37,\n",
       " 1000: 'Marks',\n",
       " 'tech': ['Python',\n",
       "  'Bigdata',\n",
       "  'AI',\n",
       "  ['AWS', 'AZURE', 'GCP'],\n",
       "  'DevOps',\n",
       "  'Oracle'],\n",
       " 'Manager': 'Ranga',\n",
       " 'BU': 'E&R'}"
      ]
     },
     "execution_count": 18,
     "metadata": {},
     "output_type": "execute_result"
    }
   ],
   "source": [
    "info"
   ]
  },
  {
   "cell_type": "code",
   "execution_count": 20,
   "id": "4610aa9e",
   "metadata": {},
   "outputs": [],
   "source": [
    "del info[1000]"
   ]
  },
  {
   "cell_type": "code",
   "execution_count": 21,
   "id": "58d416e6",
   "metadata": {},
   "outputs": [
    {
     "data": {
      "text/plain": [
       "{'name': 'Raghul Ramesh',\n",
       " 'city': 'Hyderabad',\n",
       " 'age': 37,\n",
       " 'tech': ['Python',\n",
       "  'Bigdata',\n",
       "  'AI',\n",
       "  ['AWS', 'AZURE', 'GCP'],\n",
       "  'DevOps',\n",
       "  'Oracle'],\n",
       " 'Manager': 'Ranga',\n",
       " 'BU': 'E&R'}"
      ]
     },
     "execution_count": 21,
     "metadata": {},
     "output_type": "execute_result"
    }
   ],
   "source": [
    "info"
   ]
  },
  {
   "cell_type": "code",
   "execution_count": 22,
   "id": "2bc0258e",
   "metadata": {},
   "outputs": [
    {
     "ename": "KeyError",
     "evalue": "'salary'",
     "output_type": "error",
     "traceback": [
      "\u001b[1;31m---------------------------------------------------------------------------\u001b[0m",
      "\u001b[1;31mKeyError\u001b[0m                                  Traceback (most recent call last)",
      "Input \u001b[1;32mIn [22]\u001b[0m, in \u001b[0;36m<cell line: 1>\u001b[1;34m()\u001b[0m\n\u001b[1;32m----> 1\u001b[0m \u001b[43minfo\u001b[49m\u001b[43m[\u001b[49m\u001b[38;5;124;43m'\u001b[39;49m\u001b[38;5;124;43msalary\u001b[39;49m\u001b[38;5;124;43m'\u001b[39;49m\u001b[43m]\u001b[49m\n",
      "\u001b[1;31mKeyError\u001b[0m: 'salary'"
     ]
    }
   ],
   "source": [
    "info['salary']"
   ]
  },
  {
   "cell_type": "code",
   "execution_count": 25,
   "id": "bd2c0a6e",
   "metadata": {},
   "outputs": [],
   "source": [
    "# get and setdefault\n",
    "\n",
    "info.get('salary')"
   ]
  },
  {
   "cell_type": "code",
   "execution_count": 28,
   "id": "c9695724",
   "metadata": {},
   "outputs": [
    {
     "data": {
      "text/plain": [
       "'not available'"
      ]
     },
     "execution_count": 28,
     "metadata": {},
     "output_type": "execute_result"
    }
   ],
   "source": [
    "info.get('salary','not available')"
   ]
  },
  {
   "cell_type": "code",
   "execution_count": 29,
   "id": "c48d8a29",
   "metadata": {},
   "outputs": [
    {
     "data": {
      "text/plain": [
       "{'name': 'Raghul Ramesh',\n",
       " 'city': 'Hyderabad',\n",
       " 'age': 37,\n",
       " 'tech': ['Python',\n",
       "  'Bigdata',\n",
       "  'AI',\n",
       "  ['AWS', 'AZURE', 'GCP'],\n",
       "  'DevOps',\n",
       "  'Oracle'],\n",
       " 'Manager': 'Ranga',\n",
       " 'BU': 'E&R'}"
      ]
     },
     "execution_count": 29,
     "metadata": {},
     "output_type": "execute_result"
    }
   ],
   "source": [
    "info"
   ]
  },
  {
   "cell_type": "code",
   "execution_count": 30,
   "id": "d5a7f11c",
   "metadata": {},
   "outputs": [
    {
     "data": {
      "text/plain": [
       "'not available'"
      ]
     },
     "execution_count": 30,
     "metadata": {},
     "output_type": "execute_result"
    }
   ],
   "source": [
    "info.setdefault('salary','not available')"
   ]
  },
  {
   "cell_type": "code",
   "execution_count": 31,
   "id": "5ce19b63",
   "metadata": {},
   "outputs": [
    {
     "data": {
      "text/plain": [
       "{'name': 'Raghul Ramesh',\n",
       " 'city': 'Hyderabad',\n",
       " 'age': 37,\n",
       " 'tech': ['Python',\n",
       "  'Bigdata',\n",
       "  'AI',\n",
       "  ['AWS', 'AZURE', 'GCP'],\n",
       "  'DevOps',\n",
       "  'Oracle'],\n",
       " 'Manager': 'Ranga',\n",
       " 'BU': 'E&R',\n",
       " 'salary': 'not available'}"
      ]
     },
     "execution_count": 31,
     "metadata": {},
     "output_type": "execute_result"
    }
   ],
   "source": [
    "info"
   ]
  },
  {
   "cell_type": "code",
   "execution_count": 32,
   "id": "a94af053",
   "metadata": {},
   "outputs": [
    {
     "data": {
      "text/plain": [
       "'not available'"
      ]
     },
     "execution_count": 32,
     "metadata": {},
     "output_type": "execute_result"
    }
   ],
   "source": [
    "info.pop('salary')"
   ]
  },
  {
   "cell_type": "code",
   "execution_count": 33,
   "id": "3cb26399",
   "metadata": {},
   "outputs": [
    {
     "data": {
      "text/plain": [
       "100000"
      ]
     },
     "execution_count": 33,
     "metadata": {},
     "output_type": "execute_result"
    }
   ],
   "source": [
    "info.setdefault('salary',100000)"
   ]
  },
  {
   "cell_type": "code",
   "execution_count": 34,
   "id": "528c7f0f",
   "metadata": {},
   "outputs": [
    {
     "data": {
      "text/plain": [
       "{'name': 'Raghul Ramesh',\n",
       " 'city': 'Hyderabad',\n",
       " 'age': 37,\n",
       " 'tech': ['Python',\n",
       "  'Bigdata',\n",
       "  'AI',\n",
       "  ['AWS', 'AZURE', 'GCP'],\n",
       "  'DevOps',\n",
       "  'Oracle'],\n",
       " 'Manager': 'Ranga',\n",
       " 'BU': 'E&R',\n",
       " 'salary': 100000}"
      ]
     },
     "execution_count": 34,
     "metadata": {},
     "output_type": "execute_result"
    }
   ],
   "source": [
    "info"
   ]
  },
  {
   "cell_type": "code",
   "execution_count": 35,
   "id": "53fdd8cc",
   "metadata": {},
   "outputs": [
    {
     "data": {
      "text/plain": [
       "{'name': 'Raghul Ramesh',\n",
       " 'city': 'Hyderabad',\n",
       " 'age': 37,\n",
       " 'tech': ['Python',\n",
       "  'Bigdata',\n",
       "  'AI',\n",
       "  ['AWS', 'AZURE', 'GCP'],\n",
       "  'DevOps',\n",
       "  'Oracle'],\n",
       " 'Manager': 'Ranga',\n",
       " 'BU': 'E&R',\n",
       " 'salary': 100000}"
      ]
     },
     "execution_count": 35,
     "metadata": {},
     "output_type": "execute_result"
    }
   ],
   "source": [
    "info"
   ]
  },
  {
   "cell_type": "code",
   "execution_count": 36,
   "id": "9b0a0fb4",
   "metadata": {},
   "outputs": [
    {
     "data": {
      "text/plain": [
       "dict_keys(['name', 'city', 'age', 'tech', 'Manager', 'BU', 'salary'])"
      ]
     },
     "execution_count": 36,
     "metadata": {},
     "output_type": "execute_result"
    }
   ],
   "source": [
    "info.keys()"
   ]
  },
  {
   "cell_type": "code",
   "execution_count": 37,
   "id": "05f1eccd",
   "metadata": {},
   "outputs": [
    {
     "data": {
      "text/plain": [
       "dict_values(['Raghul Ramesh', 'Hyderabad', 37, ['Python', 'Bigdata', 'AI', ['AWS', 'AZURE', 'GCP'], 'DevOps', 'Oracle'], 'Ranga', 'E&R', 100000])"
      ]
     },
     "execution_count": 37,
     "metadata": {},
     "output_type": "execute_result"
    }
   ],
   "source": [
    "info.values()"
   ]
  },
  {
   "cell_type": "code",
   "execution_count": 38,
   "id": "70a9afb3",
   "metadata": {},
   "outputs": [
    {
     "data": {
      "text/plain": [
       "dict_items([('name', 'Raghul Ramesh'), ('city', 'Hyderabad'), ('age', 37), ('tech', ['Python', 'Bigdata', 'AI', ['AWS', 'AZURE', 'GCP'], 'DevOps', 'Oracle']), ('Manager', 'Ranga'), ('BU', 'E&R'), ('salary', 100000)])"
      ]
     },
     "execution_count": 38,
     "metadata": {},
     "output_type": "execute_result"
    }
   ],
   "source": [
    "info.items()"
   ]
  },
  {
   "cell_type": "code",
   "execution_count": 42,
   "id": "7af15a6e",
   "metadata": {},
   "outputs": [
    {
     "name": "stdout",
     "output_type": "stream",
     "text": [
      "name ===> Raghul Ramesh\n",
      "city ===> Hyderabad\n",
      "age ===> 37\n",
      "tech ===> ['Python', 'Bigdata', 'AI', ['AWS', 'AZURE', 'GCP'], 'DevOps', 'Oracle']\n",
      "Manager ===> Ranga\n",
      "BU ===> E&R\n",
      "salary ===> 100000\n"
     ]
    }
   ],
   "source": [
    "for k in info.keys():\n",
    "    print(k+\" ===> \"+str(info[k]))"
   ]
  },
  {
   "cell_type": "code",
   "execution_count": 43,
   "id": "1e715e27",
   "metadata": {},
   "outputs": [
    {
     "name": "stdout",
     "output_type": "stream",
     "text": [
      "name ---> Raghul Ramesh\n",
      "city ---> Hyderabad\n",
      "age ---> 37\n",
      "tech ---> ['Python', 'Bigdata', 'AI', ['AWS', 'AZURE', 'GCP'], 'DevOps', 'Oracle']\n",
      "Manager ---> Ranga\n",
      "BU ---> E&R\n",
      "salary ---> 100000\n"
     ]
    }
   ],
   "source": [
    "for k,v in info.items():\n",
    "    print(k+\" ---> \"+ str(v))"
   ]
  },
  {
   "cell_type": "code",
   "execution_count": 44,
   "id": "3c32cae9",
   "metadata": {},
   "outputs": [],
   "source": [
    "user=['name','age','gender','mobile','email','pan','aadhar','address']"
   ]
  },
  {
   "cell_type": "code",
   "execution_count": 58,
   "id": "5f1e4336",
   "metadata": {},
   "outputs": [],
   "source": [
    "user1=dict.fromkeys(user)"
   ]
  },
  {
   "cell_type": "code",
   "execution_count": 59,
   "id": "81b22d50",
   "metadata": {},
   "outputs": [
    {
     "data": {
      "text/plain": [
       "dict"
      ]
     },
     "execution_count": 59,
     "metadata": {},
     "output_type": "execute_result"
    }
   ],
   "source": [
    "type(user1)"
   ]
  },
  {
   "cell_type": "code",
   "execution_count": 61,
   "id": "dff41666",
   "metadata": {},
   "outputs": [
    {
     "data": {
      "text/plain": [
       "{'name': None,\n",
       " 'age': None,\n",
       " 'gender': None,\n",
       " 'mobile': None,\n",
       " 'email': None,\n",
       " 'pan': None,\n",
       " 'aadhar': None,\n",
       " 'address': None}"
      ]
     },
     "execution_count": 61,
     "metadata": {},
     "output_type": "execute_result"
    }
   ],
   "source": [
    "user1"
   ]
  },
  {
   "cell_type": "code",
   "execution_count": 62,
   "id": "4e96221e",
   "metadata": {},
   "outputs": [],
   "source": [
    "user1.clear()"
   ]
  },
  {
   "cell_type": "code",
   "execution_count": 63,
   "id": "b5e4e5ea",
   "metadata": {},
   "outputs": [
    {
     "data": {
      "text/plain": [
       "{}"
      ]
     },
     "execution_count": 63,
     "metadata": {},
     "output_type": "execute_result"
    }
   ],
   "source": [
    "user1"
   ]
  },
  {
   "cell_type": "code",
   "execution_count": 64,
   "id": "779ed946",
   "metadata": {},
   "outputs": [
    {
     "name": "stdout",
     "output_type": "stream",
     "text": [
      "['__class__', '__contains__', '__delattr__', '__delitem__', '__dir__', '__doc__', '__eq__', '__format__', '__ge__', '__getattribute__', '__getitem__', '__gt__', '__hash__', '__init__', '__init_subclass__', '__iter__', '__le__', '__len__', '__lt__', '__ne__', '__new__', '__reduce__', '__reduce_ex__', '__repr__', '__reversed__', '__setattr__', '__setitem__', '__sizeof__', '__str__', '__subclasshook__', 'clear', 'copy', 'fromkeys', 'get', 'items', 'keys', 'pop', 'popitem', 'setdefault', 'update', 'values']\n"
     ]
    }
   ],
   "source": [
    "print(dir(user1))"
   ]
  },
  {
   "cell_type": "code",
   "execution_count": null,
   "id": "11d21f09",
   "metadata": {},
   "outputs": [],
   "source": []
  }
 ],
 "metadata": {
  "kernelspec": {
   "display_name": "Python 3 (ipykernel)",
   "language": "python",
   "name": "python3"
  },
  "language_info": {
   "codemirror_mode": {
    "name": "ipython",
    "version": 3
   },
   "file_extension": ".py",
   "mimetype": "text/x-python",
   "name": "python",
   "nbconvert_exporter": "python",
   "pygments_lexer": "ipython3",
   "version": "3.8.10"
  }
 },
 "nbformat": 4,
 "nbformat_minor": 5
}
