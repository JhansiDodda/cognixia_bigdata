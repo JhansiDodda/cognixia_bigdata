{
 "cells": [
  {
   "cell_type": "raw",
   "id": "d9c6eed9",
   "metadata": {},
   "source": [
    "'''\n",
    "r (read) -> File will be opened with read mode. File must be there otherwise we will\n",
    "            get FileNotFoundError\n",
    "w (write) -> Open the file to write into it. if the exists already then it wil cleanup\n",
    "            the existing content and start writing as a new file OR if the file is not\n",
    "            there then it will create a file and write into it.\n",
    "a (append) -> File will be opened for appending the data. If the will is already exists\n",
    "            with some content, it will not remove those content , it will start appending\n",
    "            new lines into it.If the file is not there then it will create a file and start\n",
    "            writing into it\n",
    "r+ ( read and write) -> File will be opened for both read and write purpose. * we must\n",
    "                read the existing content first and start writing into it.\n",
    "w+ (write and read) -> Will be opened for write and read. If the file exists the content\n",
    "                of the file will be removed and starting as a new file.and we can read\n",
    "                whatever has been written into it\n",
    "rb (read binary) -> used for reading image/audio/video files.\n",
    "wb (write binary) -> used for writing image/audio/video files\n",
    "\n",
    "READ:\n",
    "    readline()\n",
    "    readlines()\n",
    "    read()\n",
    "'''"
   ]
  },
  {
   "cell_type": "markdown",
   "id": "6af03efc",
   "metadata": {},
   "source": [
    "# Read"
   ]
  },
  {
   "cell_type": "code",
   "execution_count": 11,
   "id": "8fb463c7",
   "metadata": {},
   "outputs": [
    {
     "name": "stdout",
     "output_type": "stream",
     "text": [
      "Monday\n",
      "Tuesday\n",
      "Wednesday\n",
      "Thursday\n",
      "Friday\n",
      "Saturday\n",
      "Sunday\n"
     ]
    }
   ],
   "source": [
    "# create file first  #default- read\n",
    "# throws error if file does not exists #same folder\n",
    "with open('days.txt','r') as fh:\n",
    "    # print(fh.readline(),end='')\n",
    "    # print(fh.readline())\n",
    "    # for day in fh.readlines()[1:6]:\n",
    "    #     print(day[:3])\n",
    "    print(fh.read())"
   ]
  },
  {
   "cell_type": "code",
   "execution_count": 9,
   "id": "c9a6a345",
   "metadata": {},
   "outputs": [
    {
     "name": "stdout",
     "output_type": "stream",
     "text": [
      "Monday\n",
      "\n",
      "Tuesday\n",
      "\n"
     ]
    }
   ],
   "source": [
    "with open('days.txt','r') as fh:\n",
    "    print(fh.readline())\n",
    "    print(fh.readline())"
   ]
  },
  {
   "cell_type": "code",
   "execution_count": 10,
   "id": "3b6952f0",
   "metadata": {},
   "outputs": [
    {
     "name": "stdout",
     "output_type": "stream",
     "text": [
      "Monday\n",
      "Tuesday\n"
     ]
    }
   ],
   "source": [
    "with open('days.txt','r') as fh:\n",
    "    print(fh.readline(),end='')\n",
    "    print(fh.readline(),end='')"
   ]
  },
  {
   "cell_type": "code",
   "execution_count": 6,
   "id": "29feb76f",
   "metadata": {},
   "outputs": [
    {
     "name": "stdout",
     "output_type": "stream",
     "text": [
      "Tue\n",
      "Wed\n",
      "Thu\n",
      "Fri\n",
      "Sat\n"
     ]
    }
   ],
   "source": [
    "with open('days.txt','r') as fh:\n",
    "    for day in fh.readlines()[1:6]:\n",
    "        print(day[:3])"
   ]
  },
  {
   "cell_type": "markdown",
   "id": "a1b22ec2",
   "metadata": {},
   "source": [
    "# WRITE"
   ]
  },
  {
   "cell_type": "code",
   "execution_count": 12,
   "id": "32c4d570",
   "metadata": {},
   "outputs": [],
   "source": [
    "with open(\"tech.txt\",'w') as wfo:\n",
    "    wfo.write('SPARK\\n')\n",
    "    wfo.writelines(['Spark\\n','Hadoop\\n','Python\\n','Tableau\\n','DWH'])"
   ]
  },
  {
   "cell_type": "code",
   "execution_count": 13,
   "id": "dd82fee3",
   "metadata": {},
   "outputs": [],
   "source": [
    "with open(\"tech1.txt\",'w') as wfo:\n",
    "    wfo.write('SPARK\\n')"
   ]
  },
  {
   "cell_type": "code",
   "execution_count": 14,
   "id": "ea7ca619",
   "metadata": {},
   "outputs": [],
   "source": [
    "with open(\"tech2.txt\",'w') as wfo:  #writelines for writing multiple lines\n",
    "    wfo.writelines('SPARK\\n')"
   ]
  },
  {
   "cell_type": "code",
   "execution_count": 15,
   "id": "88dd35fa",
   "metadata": {},
   "outputs": [],
   "source": [
    "with open('tech.txt','a') as fh:\n",
    "    fh.writelines(['\\nHDFS\\n','YARN\\n','Sqoop\\n','Hive\\n','Kafka\\n','Airflow'])\n"
   ]
  },
  {
   "cell_type": "code",
   "execution_count": 16,
   "id": "b7a40fce",
   "metadata": {},
   "outputs": [
    {
     "name": "stdout",
     "output_type": "stream",
     "text": [
      "SPARK\n",
      "\n"
     ]
    }
   ],
   "source": [
    "with open('tech1.txt','r+') as venu:\n",
    "    print(venu.read())\n",
    "    venu.write('\\n ------------END OF THE FILE----------------')\n"
   ]
  },
  {
   "cell_type": "code",
   "execution_count": 17,
   "id": "b5170521",
   "metadata": {},
   "outputs": [
    {
     "name": "stdout",
     "output_type": "stream",
     "text": [
      "Chennai\n",
      "Bangalore\n",
      "Hyderabad\n",
      "Pune\n",
      "Gurgoan\n"
     ]
    }
   ],
   "source": [
    "with open('tech4.txt','w+') as fo:\n",
    "    fo.writelines(['Chennai\\n','Bangalore\\n','Hyderabad\\n','Pune\\n','Gurgoan'])\n",
    "    fo.seek(0,0)\n",
    "    print(fo.read())"
   ]
  },
  {
   "cell_type": "code",
   "execution_count": 19,
   "id": "25a70c2b",
   "metadata": {},
   "outputs": [
    {
     "ename": "FileNotFoundError",
     "evalue": "[Errno 2] No such file or directory: 'C:\\\\Users\\\\JHANSI\\\\Documents\\\\GitHub\\\\cognixia_bigdata\\\\tech1'",
     "output_type": "error",
     "traceback": [
      "\u001b[1;31m---------------------------------------------------------------------------\u001b[0m",
      "\u001b[1;31mFileNotFoundError\u001b[0m                         Traceback (most recent call last)",
      "Input \u001b[1;32mIn [19]\u001b[0m, in \u001b[0;36m<cell line: 1>\u001b[1;34m()\u001b[0m\n\u001b[1;32m----> 1\u001b[0m \u001b[38;5;28;01mwith\u001b[39;00m \u001b[38;5;28;43mopen\u001b[39;49m\u001b[43m(\u001b[49m\u001b[38;5;124;43mr\u001b[39;49m\u001b[38;5;124;43m'\u001b[39;49m\u001b[38;5;124;43mC:\u001b[39;49m\u001b[38;5;124;43m\\\u001b[39;49m\u001b[38;5;124;43mUsers\u001b[39;49m\u001b[38;5;124;43m\\\u001b[39;49m\u001b[38;5;124;43mJHANSI\u001b[39;49m\u001b[38;5;124;43m\\\u001b[39;49m\u001b[38;5;124;43mDocuments\u001b[39;49m\u001b[38;5;124;43m\\\u001b[39;49m\u001b[38;5;124;43mGitHub\u001b[39;49m\u001b[38;5;124;43m\\\u001b[39;49m\u001b[38;5;124;43mcognixia_bigdata\u001b[39;49m\u001b[38;5;124;43m\\\u001b[39;49m\u001b[38;5;124;43mtech1\u001b[39;49m\u001b[38;5;124;43m'\u001b[39;49m\u001b[43m,\u001b[49m\u001b[38;5;124;43m'\u001b[39;49m\u001b[38;5;124;43mrb\u001b[39;49m\u001b[38;5;124;43m'\u001b[39;49m\u001b[43m)\u001b[49m \u001b[38;5;28;01mas\u001b[39;00m fh:\n\u001b[0;32m      2\u001b[0m     \u001b[38;5;28;01mwith\u001b[39;00m \u001b[38;5;28mopen\u001b[39m(\u001b[38;5;124mr\u001b[39m\u001b[38;5;124m'\u001b[39m\u001b[38;5;124mC:\u001b[39m\u001b[38;5;124m\\\u001b[39m\u001b[38;5;124mUsers\u001b[39m\u001b[38;5;124m\\\u001b[39m\u001b[38;5;124mJHANSI\u001b[39m\u001b[38;5;124m\\\u001b[39m\u001b[38;5;124mDocuments\u001b[39m\u001b[38;5;124m\\\u001b[39m\u001b[38;5;124mGitHub\u001b[39m\u001b[38;5;124m\\\u001b[39m\u001b[38;5;124mcognixia_bigdata\u001b[39m\u001b[38;5;124m\\\u001b[39m\u001b[38;5;124mtech2\u001b[39m\u001b[38;5;124m'\u001b[39m,\u001b[38;5;124m'\u001b[39m\u001b[38;5;124mwb\u001b[39m\u001b[38;5;124m'\u001b[39m) \u001b[38;5;28;01mas\u001b[39;00m wfh:\n\u001b[0;32m      3\u001b[0m         wfh\u001b[38;5;241m.\u001b[39mwrite(fh\u001b[38;5;241m.\u001b[39mread())\n",
      "\u001b[1;31mFileNotFoundError\u001b[0m: [Errno 2] No such file or directory: 'C:\\\\Users\\\\JHANSI\\\\Documents\\\\GitHub\\\\cognixia_bigdata\\\\tech1'"
     ]
    }
   ],
   "source": [
    "with open(r'C:\\Users\\JHANSI\\Documents\\GitHub\\cognixia_bigdata\\tech1','rb') as fh:\n",
    "    with open(r'C:\\Users\\JHANSI\\Documents\\GitHub\\cognixia_bigdata\\tech2','wb') as wfh:\n",
    "        wfh.write(fh.read())"
   ]
  },
  {
   "cell_type": "code",
   "execution_count": null,
   "id": "eddb1dbe",
   "metadata": {},
   "outputs": [],
   "source": []
  }
 ],
 "metadata": {
  "kernelspec": {
   "display_name": "Python 3 (ipykernel)",
   "language": "python",
   "name": "python3"
  },
  "language_info": {
   "codemirror_mode": {
    "name": "ipython",
    "version": 3
   },
   "file_extension": ".py",
   "mimetype": "text/x-python",
   "name": "python",
   "nbconvert_exporter": "python",
   "pygments_lexer": "ipython3",
   "version": "3.8.10"
  }
 },
 "nbformat": 4,
 "nbformat_minor": 5
}
