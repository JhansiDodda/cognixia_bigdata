{
 "cells": [
  {
   "cell_type": "code",
   "execution_count": null,
   "id": "1cd07ce1",
   "metadata": {},
   "outputs": [],
   "source": [
    "10 lines of code for a operation\n",
    "and it has to be repeated in 100 places\n",
    "\n",
    "10*100=1000 (10)   - DUPLICATE\n",
    "                   - Maintenance\n",
    "    \n",
    "Create a function for this operation (myfunction)\n",
    "\n",
    "myfunction"
   ]
  },
  {
   "cell_type": "markdown",
   "id": "55087ce8",
   "metadata": {},
   "source": [
    "# DEFINITION"
   ]
  },
  {
   "cell_type": "code",
   "execution_count": 1,
   "id": "75a57a95",
   "metadata": {},
   "outputs": [],
   "source": [
    "def addnums(x,y):\n",
    "    return x+y"
   ]
  },
  {
   "cell_type": "code",
   "execution_count": 2,
   "id": "7e384df2",
   "metadata": {},
   "outputs": [
    {
     "data": {
      "text/plain": [
       "30"
      ]
     },
     "execution_count": 2,
     "metadata": {},
     "output_type": "execute_result"
    }
   ],
   "source": [
    "addnums(10,20)"
   ]
  },
  {
   "cell_type": "code",
   "execution_count": 3,
   "id": "9ff8ebff",
   "metadata": {},
   "outputs": [
    {
     "ename": "TypeError",
     "evalue": "addnums() takes 2 positional arguments but 5 were given",
     "output_type": "error",
     "traceback": [
      "\u001b[1;31m---------------------------------------------------------------------------\u001b[0m",
      "\u001b[1;31mTypeError\u001b[0m                                 Traceback (most recent call last)",
      "Input \u001b[1;32mIn [3]\u001b[0m, in \u001b[0;36m<cell line: 1>\u001b[1;34m()\u001b[0m\n\u001b[1;32m----> 1\u001b[0m \u001b[43maddnums\u001b[49m\u001b[43m(\u001b[49m\u001b[38;5;241;43m10\u001b[39;49m\u001b[43m,\u001b[49m\u001b[38;5;241;43m20\u001b[39;49m\u001b[43m,\u001b[49m\u001b[38;5;241;43m30\u001b[39;49m\u001b[43m,\u001b[49m\u001b[38;5;241;43m40\u001b[39;49m\u001b[43m,\u001b[49m\u001b[38;5;241;43m50\u001b[39;49m\u001b[43m)\u001b[49m\n",
      "\u001b[1;31mTypeError\u001b[0m: addnums() takes 2 positional arguments but 5 were given"
     ]
    }
   ],
   "source": [
    "addnums(10,20,30,40,50)"
   ]
  },
  {
   "cell_type": "code",
   "execution_count": 4,
   "id": "83640660",
   "metadata": {},
   "outputs": [
    {
     "ename": "TypeError",
     "evalue": "addnums() missing 1 required positional argument: 'y'",
     "output_type": "error",
     "traceback": [
      "\u001b[1;31m---------------------------------------------------------------------------\u001b[0m",
      "\u001b[1;31mTypeError\u001b[0m                                 Traceback (most recent call last)",
      "Input \u001b[1;32mIn [4]\u001b[0m, in \u001b[0;36m<cell line: 1>\u001b[1;34m()\u001b[0m\n\u001b[1;32m----> 1\u001b[0m \u001b[43maddnums\u001b[49m\u001b[43m(\u001b[49m\u001b[38;5;241;43m10\u001b[39;49m\u001b[43m)\u001b[49m\n",
      "\u001b[1;31mTypeError\u001b[0m: addnums() missing 1 required positional argument: 'y'"
     ]
    }
   ],
   "source": [
    "addnums(10)"
   ]
  },
  {
   "cell_type": "code",
   "execution_count": 9,
   "id": "a11a2295",
   "metadata": {},
   "outputs": [],
   "source": [
    "def addnums(x,y):\n",
    "    '''addnums function take 2 number and input and return sum of them'''\n",
    "    return x+y"
   ]
  },
  {
   "cell_type": "code",
   "execution_count": 10,
   "id": "4c699235",
   "metadata": {},
   "outputs": [
    {
     "data": {
      "text/plain": [
       "'addnums function take 2 number and input and return sum of them'"
      ]
     },
     "execution_count": 10,
     "metadata": {},
     "output_type": "execute_result"
    }
   ],
   "source": [
    "addnums.__doc__"
   ]
  },
  {
   "cell_type": "code",
   "execution_count": 11,
   "id": "87ed6e5f",
   "metadata": {},
   "outputs": [
    {
     "data": {
      "text/plain": [
       "300"
      ]
     },
     "execution_count": 11,
     "metadata": {},
     "output_type": "execute_result"
    }
   ],
   "source": [
    "addnums(100,200)"
   ]
  },
  {
   "cell_type": "code",
   "execution_count": 12,
   "id": "3a05d4c7",
   "metadata": {},
   "outputs": [
    {
     "ename": "TypeError",
     "evalue": "addnums() missing 1 required positional argument: 'y'",
     "output_type": "error",
     "traceback": [
      "\u001b[1;31m---------------------------------------------------------------------------\u001b[0m",
      "\u001b[1;31mTypeError\u001b[0m                                 Traceback (most recent call last)",
      "Input \u001b[1;32mIn [12]\u001b[0m, in \u001b[0;36m<cell line: 1>\u001b[1;34m()\u001b[0m\n\u001b[1;32m----> 1\u001b[0m \u001b[43maddnums\u001b[49m\u001b[43m(\u001b[49m\u001b[38;5;241;43m100\u001b[39;49m\u001b[43m)\u001b[49m\n",
      "\u001b[1;31mTypeError\u001b[0m: addnums() missing 1 required positional argument: 'y'"
     ]
    }
   ],
   "source": [
    "addnums(100)"
   ]
  },
  {
   "cell_type": "code",
   "execution_count": 13,
   "id": "cf5af4f9",
   "metadata": {},
   "outputs": [],
   "source": [
    "def addnums(x,y=0):\n",
    "    '''addnums function take 2 number and input and return sum of them'''\n",
    "    return x+y"
   ]
  },
  {
   "cell_type": "code",
   "execution_count": 14,
   "id": "206ca9f2",
   "metadata": {},
   "outputs": [
    {
     "data": {
      "text/plain": [
       "11"
      ]
     },
     "execution_count": 14,
     "metadata": {},
     "output_type": "execute_result"
    }
   ],
   "source": [
    "addnums(5,6)"
   ]
  },
  {
   "cell_type": "code",
   "execution_count": 15,
   "id": "cfce3462",
   "metadata": {},
   "outputs": [
    {
     "data": {
      "text/plain": [
       "5"
      ]
     },
     "execution_count": 15,
     "metadata": {},
     "output_type": "execute_result"
    }
   ],
   "source": [
    "addnums(5)"
   ]
  },
  {
   "cell_type": "code",
   "execution_count": 16,
   "id": "627a3e0d",
   "metadata": {},
   "outputs": [
    {
     "ename": "TypeError",
     "evalue": "addnums() takes from 1 to 2 positional arguments but 5 were given",
     "output_type": "error",
     "traceback": [
      "\u001b[1;31m---------------------------------------------------------------------------\u001b[0m",
      "\u001b[1;31mTypeError\u001b[0m                                 Traceback (most recent call last)",
      "Input \u001b[1;32mIn [16]\u001b[0m, in \u001b[0;36m<cell line: 1>\u001b[1;34m()\u001b[0m\n\u001b[1;32m----> 1\u001b[0m \u001b[43maddnums\u001b[49m\u001b[43m(\u001b[49m\u001b[38;5;241;43m10\u001b[39;49m\u001b[43m,\u001b[49m\u001b[38;5;241;43m20\u001b[39;49m\u001b[43m,\u001b[49m\u001b[38;5;241;43m30\u001b[39;49m\u001b[43m,\u001b[49m\u001b[38;5;241;43m40\u001b[39;49m\u001b[43m,\u001b[49m\u001b[38;5;241;43m50\u001b[39;49m\u001b[43m)\u001b[49m\n",
      "\u001b[1;31mTypeError\u001b[0m: addnums() takes from 1 to 2 positional arguments but 5 were given"
     ]
    }
   ],
   "source": [
    "addnums(10,20,30,40,50)"
   ]
  },
  {
   "cell_type": "code",
   "execution_count": 18,
   "id": "0bcb589d",
   "metadata": {},
   "outputs": [],
   "source": [
    "def addnums(x,*y):    #tuple (10,20)\n",
    "    '''addnums function take 2 number and input and return sum of them'''\n",
    "    return x+sum(y)"
   ]
  },
  {
   "cell_type": "code",
   "execution_count": 19,
   "id": "81cff994",
   "metadata": {},
   "outputs": [
    {
     "data": {
      "text/plain": [
       "60"
      ]
     },
     "execution_count": 19,
     "metadata": {},
     "output_type": "execute_result"
    }
   ],
   "source": [
    "addnums(10,20,30)"
   ]
  },
  {
   "cell_type": "code",
   "execution_count": 20,
   "id": "14fce46a",
   "metadata": {},
   "outputs": [
    {
     "data": {
      "text/plain": [
       "10"
      ]
     },
     "execution_count": 20,
     "metadata": {},
     "output_type": "execute_result"
    }
   ],
   "source": [
    "addnums(10)"
   ]
  },
  {
   "cell_type": "code",
   "execution_count": 21,
   "id": "bbbef48a",
   "metadata": {},
   "outputs": [
    {
     "data": {
      "text/plain": [
       "30"
      ]
     },
     "execution_count": 21,
     "metadata": {},
     "output_type": "execute_result"
    }
   ],
   "source": [
    "addnums(10,20)"
   ]
  },
  {
   "cell_type": "code",
   "execution_count": 22,
   "id": "8be8cfa6",
   "metadata": {},
   "outputs": [
    {
     "data": {
      "text/plain": [
       "550"
      ]
     },
     "execution_count": 22,
     "metadata": {},
     "output_type": "execute_result"
    }
   ],
   "source": [
    "addnums(10,20,30,40,50,60,70,80,90,100)"
   ]
  },
  {
   "cell_type": "code",
   "execution_count": 23,
   "id": "6060b010",
   "metadata": {},
   "outputs": [
    {
     "ename": "TypeError",
     "evalue": "addnums() missing 1 required positional argument: 'x'",
     "output_type": "error",
     "traceback": [
      "\u001b[1;31m---------------------------------------------------------------------------\u001b[0m",
      "\u001b[1;31mTypeError\u001b[0m                                 Traceback (most recent call last)",
      "Input \u001b[1;32mIn [23]\u001b[0m, in \u001b[0;36m<cell line: 1>\u001b[1;34m()\u001b[0m\n\u001b[1;32m----> 1\u001b[0m \u001b[43maddnums\u001b[49m\u001b[43m(\u001b[49m\u001b[43m)\u001b[49m\n",
      "\u001b[1;31mTypeError\u001b[0m: addnums() missing 1 required positional argument: 'x'"
     ]
    }
   ],
   "source": [
    "addnums()"
   ]
  },
  {
   "cell_type": "code",
   "execution_count": 29,
   "id": "72834210",
   "metadata": {},
   "outputs": [],
   "source": [
    "def addnums(*x):    #tuple (10,20)\n",
    "    '''addnums function take any number of input and return sum of them'''\n",
    "    return sum(x)"
   ]
  },
  {
   "cell_type": "code",
   "execution_count": 25,
   "id": "81656e86",
   "metadata": {},
   "outputs": [
    {
     "data": {
      "text/plain": [
       "0"
      ]
     },
     "execution_count": 25,
     "metadata": {},
     "output_type": "execute_result"
    }
   ],
   "source": [
    "addnums()"
   ]
  },
  {
   "cell_type": "code",
   "execution_count": 26,
   "id": "b5ebc152",
   "metadata": {},
   "outputs": [
    {
     "data": {
      "text/plain": [
       "100"
      ]
     },
     "execution_count": 26,
     "metadata": {},
     "output_type": "execute_result"
    }
   ],
   "source": [
    "addnums(100)"
   ]
  },
  {
   "cell_type": "code",
   "execution_count": 27,
   "id": "ad65ccdd",
   "metadata": {},
   "outputs": [
    {
     "data": {
      "text/plain": [
       "300"
      ]
     },
     "execution_count": 27,
     "metadata": {},
     "output_type": "execute_result"
    }
   ],
   "source": [
    "addnums(100,200)"
   ]
  },
  {
   "cell_type": "code",
   "execution_count": 28,
   "id": "9538e1a0",
   "metadata": {},
   "outputs": [
    {
     "data": {
      "text/plain": [
       "600"
      ]
     },
     "execution_count": 28,
     "metadata": {},
     "output_type": "execute_result"
    }
   ],
   "source": [
    "addnums(100,200,300)"
   ]
  },
  {
   "cell_type": "code",
   "execution_count": 35,
   "id": "4ec86405",
   "metadata": {},
   "outputs": [],
   "source": [
    "def addnums(*x,**y):    #tuple (10,20)\n",
    "    '''addnums function take any number of input and return sum of them'''\n",
    "    print(\"DICTIONARY DATE:\", y)\n",
    "    for key in y.keys():\n",
    "        print(key + ' ---> '+ str(y[key]))\n",
    "    print(\"HOSNAME:\", y[hostname])\n",
    "    return sum(x)"
   ]
  },
  {
   "cell_type": "code",
   "execution_count": 37,
   "id": "df807078",
   "metadata": {},
   "outputs": [
    {
     "name": "stdout",
     "output_type": "stream",
     "text": [
      "DICTIONARY DATE: {'city': 'Chennia', 'amount': 10000, 'date': '24-08-2022', 'hostname': 'ito3563.us.co'}\n",
      "city ---> Chennia\n",
      "amount ---> 10000\n",
      "date ---> 24-08-2022\n",
      "hostname ---> ito3563.us.co\n"
     ]
    },
    {
     "data": {
      "text/plain": [
       "150"
      ]
     },
     "execution_count": 37,
     "metadata": {},
     "output_type": "execute_result"
    }
   ],
   "source": [
    "addnums(10,20,30,40,50, city=\"Chennia\",amount=10000, date='24-08-2022', hostname=\"ito3563.us.co\")"
   ]
  },
  {
   "cell_type": "code",
   "execution_count": 39,
   "id": "e979daf3",
   "metadata": {},
   "outputs": [
    {
     "name": "stdout",
     "output_type": "stream",
     "text": [
      "Age before the function call: 37\n",
      "Age within the function: 100\n",
      "Age after function call: 37\n"
     ]
    }
   ],
   "source": [
    "# SCOPE OF VARIABLE - local, global\n",
    "\n",
    "age=37    #global \n",
    "\n",
    "def myfunction():\n",
    "    age=100           #local variable\n",
    "    print(\"Age within the function:\",age)    #100\n",
    "    \n",
    "print(\"Age before the function call:\",age)  #37\n",
    "myfunction()\n",
    "print(\"Age after function call:\", age)   #37"
   ]
  },
  {
   "cell_type": "code",
   "execution_count": 46,
   "id": "9bde582a",
   "metadata": {},
   "outputs": [
    {
     "name": "stdout",
     "output_type": "stream",
     "text": [
      "GLOBAL VARIABLE MEMORY LOC: 140710865542032\n",
      "Age before the function call: 37\n",
      "LOCAL VARIABLE MEMORY LOC: 140710865544048\n",
      "Age within the function: 100\n",
      "GLOBAL VARIABLE MEMORY LOC: 140710865544048\n",
      "Age after function call: 100\n",
      "MEMORY LOC of VARIABLE y: 140710865544048\n",
      "MEMORY LOC of VARIABLE y: 140710865547248\n"
     ]
    }
   ],
   "source": [
    "# SCOPE OF VARIABLE - local, global\n",
    "\n",
    "age=37    #global \n",
    "print(\"GLOBAL VARIABLE MEMORY LOC:\", id(age))\n",
    "\n",
    "def myfunction():\n",
    "    global age\n",
    "    age=100           #local variable\n",
    "    print(\"LOCAL VARIABLE MEMORY LOC:\", id(age))\n",
    "    print(\"Age within the function:\",age)    #100\n",
    "    \n",
    "print(\"Age before the function call:\",age)  #37\n",
    "myfunction()\n",
    "print(\"GLOBAL VARIABLE MEMORY LOC:\", id(age))\n",
    "print(\"Age after function call:\", age)   #37\n",
    "y=100\n",
    "print(\"MEMORY LOC of VARIABLE y:\", id(y))\n",
    "y=200\n",
    "print(\"MEMORY LOC of VARIABLE y:\", id(y))\n"
   ]
  },
  {
   "cell_type": "code",
   "execution_count": null,
   "id": "0bf71072",
   "metadata": {},
   "outputs": [],
   "source": []
  }
 ],
 "metadata": {
  "kernelspec": {
   "display_name": "Python 3 (ipykernel)",
   "language": "python",
   "name": "python3"
  },
  "language_info": {
   "codemirror_mode": {
    "name": "ipython",
    "version": 3
   },
   "file_extension": ".py",
   "mimetype": "text/x-python",
   "name": "python",
   "nbconvert_exporter": "python",
   "pygments_lexer": "ipython3",
   "version": "3.8.10"
  }
 },
 "nbformat": 4,
 "nbformat_minor": 5
}
