{
 "cells": [
  {
   "cell_type": "code",
   "execution_count": 1,
   "id": "57a7cb5b",
   "metadata": {},
   "outputs": [],
   "source": [
    "x=10   #shift + Enter"
   ]
  },
  {
   "cell_type": "code",
   "execution_count": 2,
   "id": "0e5f6b38",
   "metadata": {},
   "outputs": [
    {
     "data": {
      "text/plain": [
       "10"
      ]
     },
     "execution_count": 2,
     "metadata": {},
     "output_type": "execute_result"
    }
   ],
   "source": [
    "x"
   ]
  },
  {
   "cell_type": "code",
   "execution_count": 3,
   "id": "b6968a62",
   "metadata": {},
   "outputs": [],
   "source": [
    "y=20"
   ]
  },
  {
   "cell_type": "code",
   "execution_count": 4,
   "id": "0f20cdd7",
   "metadata": {},
   "outputs": [
    {
     "data": {
      "text/plain": [
       "20"
      ]
     },
     "execution_count": 4,
     "metadata": {},
     "output_type": "execute_result"
    }
   ],
   "source": [
    "y"
   ]
  },
  {
   "cell_type": "code",
   "execution_count": 5,
   "id": "a44fb3e3",
   "metadata": {},
   "outputs": [
    {
     "data": {
      "text/plain": [
       "30"
      ]
     },
     "execution_count": 5,
     "metadata": {},
     "output_type": "execute_result"
    }
   ],
   "source": [
    "x+y"
   ]
  },
  {
   "cell_type": "code",
   "execution_count": 6,
   "id": "4dcd91ee",
   "metadata": {},
   "outputs": [],
   "source": [
    "# Comments"
   ]
  },
  {
   "cell_type": "code",
   "execution_count": null,
   "id": "db2b68e1",
   "metadata": {},
   "outputs": [],
   "source": [
    "'''\n",
    "SYNTAX:\n",
    "\n",
    "if condition:\n",
    "    statement1\n",
    "    statement2\n",
    "   statement3;\n",
    "else:\n",
    "    statement3\n",
    "'''"
   ]
  },
  {
   "cell_type": "code",
   "execution_count": 14,
   "id": "a3e02d53",
   "metadata": {},
   "outputs": [
    {
     "name": "stdout",
     "output_type": "stream",
     "text": [
      "x is not 10\n",
      "Thanks\n"
     ]
    }
   ],
   "source": [
    "x=11\n",
    "\n",
    "if x==10:\n",
    "    print(\"x is 10\")\n",
    "else:\n",
    "    print(\"x is not 10\")\n",
    "print(\"Thanks\")"
   ]
  },
  {
   "cell_type": "code",
   "execution_count": 22,
   "id": "9b179bb7",
   "metadata": {},
   "outputs": [
    {
     "name": "stdout",
     "output_type": "stream",
     "text": [
      "x is : 0\n"
     ]
    }
   ],
   "source": [
    "x=0\n",
    "\n",
    "if x==0:\n",
    "    print(\"x is :\",x)\n",
    "elif x >= 0 and x <= 100:\n",
    "    print(\"x is between 0 to 100. x:\",x)\n",
    "elif x > 100:\n",
    "    print(\" It is greater than 100. x:\",x)\n",
    "else:\n",
    "    print(\"x is having negative value, x:\",x)\n"
   ]
  },
  {
   "cell_type": "code",
   "execution_count": 28,
   "id": "e8c01928",
   "metadata": {},
   "outputs": [
    {
     "name": "stdout",
     "output_type": "stream",
     "text": [
      "10 20 30\n",
      "10 , 20 , 30\n",
      "x is : 10 , y is : 20, z is : 30\n",
      "x  : 10 , y  : 20, z  : 30\n"
     ]
    }
   ],
   "source": [
    "x=10\n",
    "y=20\n",
    "z=30\n",
    "\n",
    "print(x,y,z)\n",
    "print(x,\",\",y,\",\",z)\n",
    "print(\"x is : {} , y is : {}, z is : {}\".format(x,y,z))\n",
    "print(f\"x  : {x} , y  : {y}, z  : {z}\")"
   ]
  },
  {
   "cell_type": "code",
   "execution_count": null,
   "id": "a5c36a9e",
   "metadata": {},
   "outputs": [],
   "source": [
    "'''\n",
    "Operators:\n",
    "    Arithmetic Operators\n",
    "    Assignment Operators\n",
    "    Validation Operators\n",
    "    Binary Operator\n",
    "    Membership operators\n",
    "    Idendity operators\n",
    "'''"
   ]
  },
  {
   "cell_type": "code",
   "execution_count": 29,
   "id": "9fe95f57",
   "metadata": {},
   "outputs": [
    {
     "data": {
      "text/plain": [
       "11"
      ]
     },
     "execution_count": 29,
     "metadata": {},
     "output_type": "execute_result"
    }
   ],
   "source": [
    "5+6  #Addition"
   ]
  },
  {
   "cell_type": "code",
   "execution_count": 30,
   "id": "9fe87cad",
   "metadata": {},
   "outputs": [
    {
     "data": {
      "text/plain": [
       "-1"
      ]
     },
     "execution_count": 30,
     "metadata": {},
     "output_type": "execute_result"
    }
   ],
   "source": [
    "5-6  #Subraction"
   ]
  },
  {
   "cell_type": "code",
   "execution_count": 31,
   "id": "1e2c9662",
   "metadata": {},
   "outputs": [
    {
     "data": {
      "text/plain": [
       "30"
      ]
     },
     "execution_count": 31,
     "metadata": {},
     "output_type": "execute_result"
    }
   ],
   "source": [
    "5*6  #Multiplication"
   ]
  },
  {
   "cell_type": "code",
   "execution_count": 32,
   "id": "1256e9d9",
   "metadata": {},
   "outputs": [
    {
     "data": {
      "text/plain": [
       "0.8333333333333334"
      ]
     },
     "execution_count": 32,
     "metadata": {},
     "output_type": "execute_result"
    }
   ],
   "source": [
    "5/6   #Division"
   ]
  },
  {
   "cell_type": "code",
   "execution_count": 33,
   "id": "2d0a1ba9",
   "metadata": {},
   "outputs": [
    {
     "data": {
      "text/plain": [
       "1"
      ]
     },
     "execution_count": 33,
     "metadata": {},
     "output_type": "execute_result"
    }
   ],
   "source": [
    "5%2  #Modulus (Reminder)"
   ]
  },
  {
   "cell_type": "code",
   "execution_count": 34,
   "id": "2ef1e180",
   "metadata": {},
   "outputs": [
    {
     "data": {
      "text/plain": [
       "1"
      ]
     },
     "execution_count": 34,
     "metadata": {},
     "output_type": "execute_result"
    }
   ],
   "source": [
    "15%2"
   ]
  },
  {
   "cell_type": "code",
   "execution_count": 35,
   "id": "29ebb293",
   "metadata": {},
   "outputs": [
    {
     "data": {
      "text/plain": [
       "0"
      ]
     },
     "execution_count": 35,
     "metadata": {},
     "output_type": "execute_result"
    }
   ],
   "source": [
    "10%2"
   ]
  },
  {
   "cell_type": "code",
   "execution_count": 37,
   "id": "0e3043c3",
   "metadata": {},
   "outputs": [
    {
     "data": {
      "text/plain": [
       "2"
      ]
     },
     "execution_count": 37,
     "metadata": {},
     "output_type": "execute_result"
    }
   ],
   "source": [
    " 5//2     # Floor Division(//)"
   ]
  },
  {
   "cell_type": "code",
   "execution_count": 39,
   "id": "1f023d4d",
   "metadata": {},
   "outputs": [
    {
     "data": {
      "text/plain": [
       "5"
      ]
     },
     "execution_count": 39,
     "metadata": {},
     "output_type": "execute_result"
    }
   ],
   "source": [
    "10//2"
   ]
  },
  {
   "cell_type": "code",
   "execution_count": 40,
   "id": "8ddd92d3",
   "metadata": {},
   "outputs": [
    {
     "data": {
      "text/plain": [
       "23817"
      ]
     },
     "execution_count": 40,
     "metadata": {},
     "output_type": "execute_result"
    }
   ],
   "source": [
    "47634//2"
   ]
  },
  {
   "cell_type": "code",
   "execution_count": 41,
   "id": "6fee58e5",
   "metadata": {},
   "outputs": [],
   "source": [
    "#Assignment Operator\n",
    "x=100"
   ]
  },
  {
   "cell_type": "code",
   "execution_count": 42,
   "id": "72a1dacb",
   "metadata": {},
   "outputs": [
    {
     "data": {
      "text/plain": [
       "100"
      ]
     },
     "execution_count": 42,
     "metadata": {},
     "output_type": "execute_result"
    }
   ],
   "source": [
    "x"
   ]
  },
  {
   "cell_type": "code",
   "execution_count": 43,
   "id": "b60b2e58",
   "metadata": {},
   "outputs": [
    {
     "data": {
      "text/plain": [
       "200"
      ]
     },
     "execution_count": 43,
     "metadata": {},
     "output_type": "execute_result"
    }
   ],
   "source": [
    "y=x+100\n",
    "y"
   ]
  },
  {
   "cell_type": "code",
   "execution_count": 44,
   "id": "03dea7f1",
   "metadata": {},
   "outputs": [],
   "source": [
    "z=x+y"
   ]
  },
  {
   "cell_type": "code",
   "execution_count": 45,
   "id": "1940912c",
   "metadata": {},
   "outputs": [
    {
     "data": {
      "text/plain": [
       "300"
      ]
     },
     "execution_count": 45,
     "metadata": {},
     "output_type": "execute_result"
    }
   ],
   "source": [
    "z"
   ]
  },
  {
   "cell_type": "code",
   "execution_count": 47,
   "id": "426545cd",
   "metadata": {},
   "outputs": [
    {
     "data": {
      "text/plain": [
       "True"
      ]
     },
     "execution_count": 47,
     "metadata": {},
     "output_type": "execute_result"
    }
   ],
   "source": [
    "# Validation Operators\n",
    "\n",
    "x=10\n",
    "\n",
    "x>0"
   ]
  },
  {
   "cell_type": "code",
   "execution_count": 48,
   "id": "9fa94755",
   "metadata": {},
   "outputs": [
    {
     "data": {
      "text/plain": [
       "True"
      ]
     },
     "execution_count": 48,
     "metadata": {},
     "output_type": "execute_result"
    }
   ],
   "source": [
    "x<100"
   ]
  },
  {
   "cell_type": "code",
   "execution_count": 49,
   "id": "b2f39d03",
   "metadata": {},
   "outputs": [
    {
     "data": {
      "text/plain": [
       "True"
      ]
     },
     "execution_count": 49,
     "metadata": {},
     "output_type": "execute_result"
    }
   ],
   "source": [
    "x==10"
   ]
  },
  {
   "cell_type": "code",
   "execution_count": 50,
   "id": "b8404af5",
   "metadata": {},
   "outputs": [
    {
     "data": {
      "text/plain": [
       "False"
      ]
     },
     "execution_count": 50,
     "metadata": {},
     "output_type": "execute_result"
    }
   ],
   "source": [
    "x<0"
   ]
  },
  {
   "cell_type": "code",
   "execution_count": 51,
   "id": "d42017a3",
   "metadata": {},
   "outputs": [
    {
     "data": {
      "text/plain": [
       "False"
      ]
     },
     "execution_count": 51,
     "metadata": {},
     "output_type": "execute_result"
    }
   ],
   "source": [
    "x>10"
   ]
  },
  {
   "cell_type": "code",
   "execution_count": 52,
   "id": "2ac980e2",
   "metadata": {},
   "outputs": [
    {
     "data": {
      "text/plain": [
       "4"
      ]
     },
     "execution_count": 52,
     "metadata": {},
     "output_type": "execute_result"
    }
   ],
   "source": [
    "#Bitwise Operator (0,1)\n",
    "\n",
    "5&6   #and"
   ]
  },
  {
   "cell_type": "code",
   "execution_count": 53,
   "id": "ff2651a8",
   "metadata": {},
   "outputs": [
    {
     "data": {
      "text/plain": [
       "7"
      ]
     },
     "execution_count": 53,
     "metadata": {},
     "output_type": "execute_result"
    }
   ],
   "source": [
    "5|6   #or"
   ]
  },
  {
   "cell_type": "code",
   "execution_count": 54,
   "id": "b5b6de52",
   "metadata": {},
   "outputs": [
    {
     "data": {
      "text/plain": [
       "3"
      ]
     },
     "execution_count": 54,
     "metadata": {},
     "output_type": "execute_result"
    }
   ],
   "source": [
    "5^6    #xor"
   ]
  },
  {
   "cell_type": "code",
   "execution_count": 56,
   "id": "02106185",
   "metadata": {},
   "outputs": [
    {
     "data": {
      "text/plain": [
       "False"
      ]
     },
     "execution_count": 56,
     "metadata": {},
     "output_type": "execute_result"
    }
   ],
   "source": [
    "# Membership Operators(in , not in)\n",
    "\n",
    "nums=[1,3,5,7,9,11,13,15]\n",
    "\n",
    "10 in nums"
   ]
  },
  {
   "cell_type": "code",
   "execution_count": 57,
   "id": "d69e1c6e",
   "metadata": {},
   "outputs": [
    {
     "data": {
      "text/plain": [
       "True"
      ]
     },
     "execution_count": 57,
     "metadata": {},
     "output_type": "execute_result"
    }
   ],
   "source": [
    "11 in nums"
   ]
  },
  {
   "cell_type": "code",
   "execution_count": 58,
   "id": "b48b9449",
   "metadata": {},
   "outputs": [
    {
     "name": "stderr",
     "output_type": "stream",
     "text": [
      "<>:5: SyntaxWarning: \"is\" with a literal. Did you mean \"==\"?\n",
      "<>:5: SyntaxWarning: \"is\" with a literal. Did you mean \"==\"?\n",
      "C:\\Users\\RaghulRamesh\\AppData\\Local\\Temp\\ipykernel_24616\\3401668341.py:5: SyntaxWarning: \"is\" with a literal. Did you mean \"==\"?\n",
      "  x is 10\n"
     ]
    },
    {
     "data": {
      "text/plain": [
       "True"
      ]
     },
     "execution_count": 58,
     "metadata": {},
     "output_type": "execute_result"
    }
   ],
   "source": [
    "# Identity opearator (is , is not)\n",
    "\n",
    "x=10\n",
    "\n",
    "x is 10"
   ]
  },
  {
   "cell_type": "code",
   "execution_count": 59,
   "id": "328bceb6",
   "metadata": {},
   "outputs": [
    {
     "name": "stderr",
     "output_type": "stream",
     "text": [
      "<>:1: SyntaxWarning: \"is not\" with a literal. Did you mean \"!=\"?\n",
      "<>:1: SyntaxWarning: \"is not\" with a literal. Did you mean \"!=\"?\n",
      "C:\\Users\\RaghulRamesh\\AppData\\Local\\Temp\\ipykernel_24616\\3306646882.py:1: SyntaxWarning: \"is not\" with a literal. Did you mean \"!=\"?\n",
      "  x is not 0\n"
     ]
    },
    {
     "data": {
      "text/plain": [
       "True"
      ]
     },
     "execution_count": 59,
     "metadata": {},
     "output_type": "execute_result"
    }
   ],
   "source": [
    "x is not 0"
   ]
  },
  {
   "cell_type": "code",
   "execution_count": 60,
   "id": "c90effb7",
   "metadata": {},
   "outputs": [
    {
     "name": "stderr",
     "output_type": "stream",
     "text": [
      "<>:1: SyntaxWarning: \"is\" with a literal. Did you mean \"==\"?\n",
      "<>:1: SyntaxWarning: \"is\" with a literal. Did you mean \"==\"?\n",
      "C:\\Users\\RaghulRamesh\\AppData\\Local\\Temp\\ipykernel_24616\\1069372017.py:1: SyntaxWarning: \"is\" with a literal. Did you mean \"==\"?\n",
      "  x is 100\n"
     ]
    },
    {
     "data": {
      "text/plain": [
       "False"
      ]
     },
     "execution_count": 60,
     "metadata": {},
     "output_type": "execute_result"
    }
   ],
   "source": [
    "x is 100"
   ]
  },
  {
   "cell_type": "code",
   "execution_count": 62,
   "id": "9c18a00e",
   "metadata": {},
   "outputs": [
    {
     "name": "stdout",
     "output_type": "stream",
     "text": [
      "Enter your age:37\n"
     ]
    },
    {
     "data": {
      "text/plain": [
       "37"
      ]
     },
     "execution_count": 62,
     "metadata": {},
     "output_type": "execute_result"
    }
   ],
   "source": [
    "int(input(\"Enter your age:\"))"
   ]
  },
  {
   "cell_type": "code",
   "execution_count": 67,
   "id": "ea168d1d",
   "metadata": {},
   "outputs": [
    {
     "name": "stdout",
     "output_type": "stream",
     "text": [
      "Enter your country name:Australia\n",
      "Enter your age:30\n",
      "Please follow your country : Australia standards\n"
     ]
    }
   ],
   "source": [
    "country=input(\"Enter your country name:\")\n",
    "age=int(input(\"Enter your age:\"))\n",
    "\n",
    "if country == \"India\":\n",
    "    if age >= 18:\n",
    "        print(\"You can go for voting\")\n",
    "    else:\n",
    "        print(\"You cannot vote\")\n",
    "else:\n",
    "    print(\"Please follow your country : {} standards\".format(country))"
   ]
  },
  {
   "cell_type": "code",
   "execution_count": 73,
   "id": "eea71842",
   "metadata": {},
   "outputs": [
    {
     "name": "stdout",
     "output_type": "stream",
     "text": [
      "Enter a number:1000\n",
      "1000 is an even number\n"
     ]
    }
   ],
   "source": [
    "num=int(input(\"Enter a number:\"))\n",
    "\n",
    "if num%2 == 0:\n",
    "    print(f\"{num} is an even number\")\n",
    "else:\n",
    "    print(f\"{num} is an odd number\")"
   ]
  },
  {
   "cell_type": "code",
   "execution_count": null,
   "id": "cf7f4a70",
   "metadata": {},
   "outputs": [],
   "source": [
    "#LOOP\n",
    "#- While , For  ( Break and Continue)"
   ]
  },
  {
   "cell_type": "code",
   "execution_count": 78,
   "id": "1c38abd8",
   "metadata": {},
   "outputs": [
    {
     "name": "stdout",
     "output_type": "stream",
     "text": [
      "Cochin\n",
      "Chennai\n",
      "Bangalore\n",
      "Hyderabad\n"
     ]
    }
   ],
   "source": [
    "city=['Cochin','Chennai','Bangalore','Hyderabad','Pune','Delhi']\n",
    "\n",
    "for x in city:\n",
    "    if x == \"Pune\":\n",
    "        break\n",
    "    print(x)"
   ]
  },
  {
   "cell_type": "code",
   "execution_count": 75,
   "id": "27de5e8f",
   "metadata": {},
   "outputs": [
    {
     "name": "stdout",
     "output_type": "stream",
     "text": [
      "1\n",
      "2\n",
      "3\n",
      "4\n",
      "6\n",
      "7\n",
      "8\n",
      "9\n",
      "10\n",
      "11\n"
     ]
    }
   ],
   "source": [
    "x=0\n",
    "while x<=10:\n",
    "    x = x + 1\n",
    "    if x == 5:\n",
    "        continue\n",
    "    print(x)"
   ]
  },
  {
   "cell_type": "code",
   "execution_count": 76,
   "id": "9fb1f2fc",
   "metadata": {},
   "outputs": [
    {
     "name": "stdout",
     "output_type": "stream",
     "text": [
      "0\n",
      "1\n",
      "2\n",
      "3\n",
      "4\n",
      "I am out of loop\n"
     ]
    }
   ],
   "source": [
    "\n",
    "x=0\n",
    "while x<=10:\n",
    "    if x == 5:\n",
    "        break\n",
    "    print(x)\n",
    "    x=x+1\n",
    "print(\"I am out of loop\")"
   ]
  },
  {
   "cell_type": "code",
   "execution_count": 77,
   "id": "749ab1a2",
   "metadata": {},
   "outputs": [
    {
     "name": "stdout",
     "output_type": "stream",
     "text": [
      "0\n",
      "1\n",
      "2\n",
      "3\n",
      "4\n",
      "5\n",
      "6\n",
      "7\n",
      "8\n",
      "9\n",
      "10\n",
      "The value of x is : 11 , Hence it came out of the loop!\n"
     ]
    }
   ],
   "source": [
    "x=0\n",
    "\n",
    "while x<=10:\n",
    "    print(x)\n",
    "    x=x+1\n",
    "else:\n",
    "    print(\"The value of x is : {} , Hence it came out of the loop!\".format(x))\n"
   ]
  },
  {
   "cell_type": "code",
   "execution_count": 79,
   "id": "a33ddc59",
   "metadata": {},
   "outputs": [],
   "source": [
    "#String Operations:\n",
    "name='Raghul Ramesh'"
   ]
  },
  {
   "cell_type": "code",
   "execution_count": 81,
   "id": "a9f5aaa5",
   "metadata": {},
   "outputs": [
    {
     "name": "stdout",
     "output_type": "stream",
     "text": [
      "['__add__', '__class__', '__contains__', '__delattr__', '__dir__', '__doc__', '__eq__', '__format__', '__ge__', '__getattribute__', '__getitem__', '__getnewargs__', '__gt__', '__hash__', '__init__', '__init_subclass__', '__iter__', '__le__', '__len__', '__lt__', '__mod__', '__mul__', '__ne__', '__new__', '__reduce__', '__reduce_ex__', '__repr__', '__rmod__', '__rmul__', '__setattr__', '__sizeof__', '__str__', '__subclasshook__', 'capitalize', 'casefold', 'center', 'count', 'encode', 'endswith', 'expandtabs', 'find', 'format', 'format_map', 'index', 'isalnum', 'isalpha', 'isascii', 'isdecimal', 'isdigit', 'isidentifier', 'islower', 'isnumeric', 'isprintable', 'isspace', 'istitle', 'isupper', 'join', 'ljust', 'lower', 'lstrip', 'maketrans', 'partition', 'replace', 'rfind', 'rindex', 'rjust', 'rpartition', 'rsplit', 'rstrip', 'split', 'splitlines', 'startswith', 'strip', 'swapcase', 'title', 'translate', 'upper', 'zfill']\n"
     ]
    }
   ],
   "source": [
    "print(dir(name))"
   ]
  },
  {
   "cell_type": "code",
   "execution_count": 82,
   "id": "f431aa5e",
   "metadata": {},
   "outputs": [
    {
     "data": {
      "text/plain": [
       "'Raghul Ramesh'"
      ]
     },
     "execution_count": 82,
     "metadata": {},
     "output_type": "execute_result"
    }
   ],
   "source": [
    "# Case related Methods\n",
    "name"
   ]
  },
  {
   "cell_type": "code",
   "execution_count": 83,
   "id": "ae65cf6f",
   "metadata": {},
   "outputs": [
    {
     "data": {
      "text/plain": [
       "'RAGHUL RAMESH'"
      ]
     },
     "execution_count": 83,
     "metadata": {},
     "output_type": "execute_result"
    }
   ],
   "source": [
    "name.upper()"
   ]
  },
  {
   "cell_type": "code",
   "execution_count": 84,
   "id": "cf750419",
   "metadata": {},
   "outputs": [
    {
     "data": {
      "text/plain": [
       "'Raghul Ramesh'"
      ]
     },
     "execution_count": 84,
     "metadata": {},
     "output_type": "execute_result"
    }
   ],
   "source": [
    "name"
   ]
  },
  {
   "cell_type": "code",
   "execution_count": 85,
   "id": "05a97a4c",
   "metadata": {},
   "outputs": [
    {
     "data": {
      "text/plain": [
       "'raghul ramesh'"
      ]
     },
     "execution_count": 85,
     "metadata": {},
     "output_type": "execute_result"
    }
   ],
   "source": [
    "name.lower()"
   ]
  },
  {
   "cell_type": "code",
   "execution_count": 86,
   "id": "e534f7c9",
   "metadata": {},
   "outputs": [
    {
     "data": {
      "text/plain": [
       "'rAGHUL rAMESH'"
      ]
     },
     "execution_count": 86,
     "metadata": {},
     "output_type": "execute_result"
    }
   ],
   "source": [
    "name.swapcase()"
   ]
  },
  {
   "cell_type": "code",
   "execution_count": 87,
   "id": "6e69d76c",
   "metadata": {},
   "outputs": [],
   "source": [
    "name='raghul ramesh'"
   ]
  },
  {
   "cell_type": "code",
   "execution_count": 88,
   "id": "b5c1466a",
   "metadata": {},
   "outputs": [
    {
     "data": {
      "text/plain": [
       "'Raghul Ramesh'"
      ]
     },
     "execution_count": 88,
     "metadata": {},
     "output_type": "execute_result"
    }
   ],
   "source": [
    "name.title()"
   ]
  },
  {
   "cell_type": "code",
   "execution_count": 89,
   "id": "8b964cc4",
   "metadata": {},
   "outputs": [
    {
     "data": {
      "text/plain": [
       "'raghul ramesh'"
      ]
     },
     "execution_count": 89,
     "metadata": {},
     "output_type": "execute_result"
    }
   ],
   "source": [
    "name"
   ]
  },
  {
   "cell_type": "code",
   "execution_count": 90,
   "id": "5ebbf261",
   "metadata": {},
   "outputs": [
    {
     "data": {
      "text/plain": [
       "'Raghul ramesh'"
      ]
     },
     "execution_count": 90,
     "metadata": {},
     "output_type": "execute_result"
    }
   ],
   "source": [
    "name.capitalize()"
   ]
  },
  {
   "cell_type": "code",
   "execution_count": 91,
   "id": "67347721",
   "metadata": {},
   "outputs": [],
   "source": [
    "name='Raghul Ramesh'"
   ]
  },
  {
   "cell_type": "code",
   "execution_count": 92,
   "id": "4dd02c84",
   "metadata": {},
   "outputs": [
    {
     "data": {
      "text/plain": [
       "'raghul ramesh'"
      ]
     },
     "execution_count": 92,
     "metadata": {},
     "output_type": "execute_result"
    }
   ],
   "source": [
    "name.casefold()"
   ]
  },
  {
   "cell_type": "code",
   "execution_count": 93,
   "id": "c107d15b",
   "metadata": {},
   "outputs": [
    {
     "data": {
      "text/plain": [
       "'Raghul Ramesh'"
      ]
     },
     "execution_count": 93,
     "metadata": {},
     "output_type": "execute_result"
    }
   ],
   "source": [
    "name"
   ]
  },
  {
   "cell_type": "code",
   "execution_count": 94,
   "id": "aec6c194",
   "metadata": {},
   "outputs": [
    {
     "data": {
      "text/plain": [
       "2"
      ]
     },
     "execution_count": 94,
     "metadata": {},
     "output_type": "execute_result"
    }
   ],
   "source": [
    "name.index('g')"
   ]
  },
  {
   "cell_type": "code",
   "execution_count": 95,
   "id": "c56d4b09",
   "metadata": {},
   "outputs": [
    {
     "data": {
      "text/plain": [
       "11"
      ]
     },
     "execution_count": 95,
     "metadata": {},
     "output_type": "execute_result"
    }
   ],
   "source": [
    "name.index('s')"
   ]
  },
  {
   "cell_type": "code",
   "execution_count": 96,
   "id": "1b80fc8d",
   "metadata": {},
   "outputs": [
    {
     "data": {
      "text/plain": [
       "0"
      ]
     },
     "execution_count": 96,
     "metadata": {},
     "output_type": "execute_result"
    }
   ],
   "source": [
    "name.index('R')"
   ]
  },
  {
   "cell_type": "code",
   "execution_count": 98,
   "id": "b971a2ea",
   "metadata": {
    "collapsed": true
   },
   "outputs": [
    {
     "name": "stdout",
     "output_type": "stream",
     "text": [
      "Help on built-in function index:\n",
      "\n",
      "index(...) method of builtins.str instance\n",
      "    S.index(sub[, start[, end]]) -> int\n",
      "    \n",
      "    Return the lowest index in S where substring sub is found,\n",
      "    such that sub is contained within S[start:end].  Optional\n",
      "    arguments start and end are interpreted as in slice notation.\n",
      "    \n",
      "    Raises ValueError when the substring is not found.\n",
      "\n"
     ]
    }
   ],
   "source": [
    "help(name.index)"
   ]
  },
  {
   "cell_type": "code",
   "execution_count": 99,
   "id": "6ecd5ee4",
   "metadata": {},
   "outputs": [
    {
     "data": {
      "text/plain": [
       "7"
      ]
     },
     "execution_count": 99,
     "metadata": {},
     "output_type": "execute_result"
    }
   ],
   "source": [
    "name.index('R',1)"
   ]
  },
  {
   "cell_type": "code",
   "execution_count": 100,
   "id": "0343089b",
   "metadata": {},
   "outputs": [
    {
     "ename": "ValueError",
     "evalue": "substring not found",
     "output_type": "error",
     "traceback": [
      "\u001b[1;31m---------------------------------------------------------------------------\u001b[0m",
      "\u001b[1;31mValueError\u001b[0m                                Traceback (most recent call last)",
      "Input \u001b[1;32mIn [100]\u001b[0m, in \u001b[0;36m<cell line: 1>\u001b[1;34m()\u001b[0m\n\u001b[1;32m----> 1\u001b[0m \u001b[43mname\u001b[49m\u001b[38;5;241;43m.\u001b[39;49m\u001b[43mindex\u001b[49m\u001b[43m(\u001b[49m\u001b[38;5;124;43m'\u001b[39;49m\u001b[38;5;124;43mx\u001b[39;49m\u001b[38;5;124;43m'\u001b[39;49m\u001b[43m)\u001b[49m\n",
      "\u001b[1;31mValueError\u001b[0m: substring not found"
     ]
    }
   ],
   "source": [
    "name.index('x')"
   ]
  },
  {
   "cell_type": "code",
   "execution_count": 102,
   "id": "111c9a6b",
   "metadata": {},
   "outputs": [
    {
     "data": {
      "text/plain": [
       "7"
      ]
     },
     "execution_count": 102,
     "metadata": {},
     "output_type": "execute_result"
    }
   ],
   "source": [
    "name.index('Ramesh')"
   ]
  },
  {
   "cell_type": "code",
   "execution_count": 103,
   "id": "ef1cf127",
   "metadata": {},
   "outputs": [
    {
     "data": {
      "text/plain": [
       "0"
      ]
     },
     "execution_count": 103,
     "metadata": {},
     "output_type": "execute_result"
    }
   ],
   "source": [
    "name.find('R')"
   ]
  },
  {
   "cell_type": "code",
   "execution_count": 104,
   "id": "679d7ffd",
   "metadata": {},
   "outputs": [
    {
     "data": {
      "text/plain": [
       "2"
      ]
     },
     "execution_count": 104,
     "metadata": {},
     "output_type": "execute_result"
    }
   ],
   "source": [
    "name.find('g')"
   ]
  },
  {
   "cell_type": "code",
   "execution_count": 105,
   "id": "b248612a",
   "metadata": {},
   "outputs": [
    {
     "data": {
      "text/plain": [
       "7"
      ]
     },
     "execution_count": 105,
     "metadata": {},
     "output_type": "execute_result"
    }
   ],
   "source": [
    "name.find('Ramesh')"
   ]
  },
  {
   "cell_type": "code",
   "execution_count": 106,
   "id": "9a6f8935",
   "metadata": {},
   "outputs": [
    {
     "data": {
      "text/plain": [
       "-1"
      ]
     },
     "execution_count": 106,
     "metadata": {},
     "output_type": "execute_result"
    }
   ],
   "source": [
    "name.find('z')"
   ]
  },
  {
   "cell_type": "code",
   "execution_count": 155,
   "id": "c293f74e",
   "metadata": {},
   "outputs": [
    {
     "data": {
      "text/plain": [
       "'Raghul Ramesh'"
      ]
     },
     "execution_count": 155,
     "metadata": {},
     "output_type": "execute_result"
    }
   ],
   "source": [
    "name"
   ]
  },
  {
   "cell_type": "code",
   "execution_count": 156,
   "id": "49c58a74",
   "metadata": {},
   "outputs": [
    {
     "data": {
      "text/plain": [
       "0"
      ]
     },
     "execution_count": 156,
     "metadata": {},
     "output_type": "execute_result"
    }
   ],
   "source": [
    "name.index('R')"
   ]
  },
  {
   "cell_type": "code",
   "execution_count": 157,
   "id": "1dddd7c9",
   "metadata": {},
   "outputs": [
    {
     "data": {
      "text/plain": [
       "7"
      ]
     },
     "execution_count": 157,
     "metadata": {},
     "output_type": "execute_result"
    }
   ],
   "source": [
    "name.rindex('R')"
   ]
  },
  {
   "cell_type": "code",
   "execution_count": 158,
   "id": "823788c4",
   "metadata": {},
   "outputs": [
    {
     "data": {
      "text/plain": [
       "0"
      ]
     },
     "execution_count": 158,
     "metadata": {},
     "output_type": "execute_result"
    }
   ],
   "source": [
    "name.find('R')"
   ]
  },
  {
   "cell_type": "code",
   "execution_count": 159,
   "id": "70df203a",
   "metadata": {},
   "outputs": [
    {
     "data": {
      "text/plain": [
       "7"
      ]
     },
     "execution_count": 159,
     "metadata": {},
     "output_type": "execute_result"
    }
   ],
   "source": [
    "name.rfind('R')"
   ]
  },
  {
   "cell_type": "code",
   "execution_count": 107,
   "id": "79e333cc",
   "metadata": {},
   "outputs": [],
   "source": [
    "# center, ljust, rust"
   ]
  },
  {
   "cell_type": "code",
   "execution_count": 108,
   "id": "740bc520",
   "metadata": {},
   "outputs": [
    {
     "data": {
      "text/plain": [
       "'Raghul Ramesh'"
      ]
     },
     "execution_count": 108,
     "metadata": {},
     "output_type": "execute_result"
    }
   ],
   "source": [
    "name"
   ]
  },
  {
   "cell_type": "code",
   "execution_count": 109,
   "id": "7d24d4a8",
   "metadata": {},
   "outputs": [
    {
     "data": {
      "text/plain": [
       "'      Raghul Ramesh      '"
      ]
     },
     "execution_count": 109,
     "metadata": {},
     "output_type": "execute_result"
    }
   ],
   "source": [
    "name.center(25)"
   ]
  },
  {
   "cell_type": "code",
   "execution_count": 110,
   "id": "9b2fb35f",
   "metadata": {},
   "outputs": [
    {
     "data": {
      "text/plain": [
       "'______Raghul Ramesh______'"
      ]
     },
     "execution_count": 110,
     "metadata": {},
     "output_type": "execute_result"
    }
   ],
   "source": [
    "name.center(25,'_')"
   ]
  },
  {
   "cell_type": "code",
   "execution_count": 111,
   "id": "842f9bd2",
   "metadata": {},
   "outputs": [
    {
     "data": {
      "text/plain": [
       "'------Raghul Ramesh------'"
      ]
     },
     "execution_count": 111,
     "metadata": {},
     "output_type": "execute_result"
    }
   ],
   "source": [
    "name.center(25,'-')"
   ]
  },
  {
   "cell_type": "code",
   "execution_count": 112,
   "id": "a44bc238",
   "metadata": {},
   "outputs": [
    {
     "data": {
      "text/plain": [
       "'......Raghul Ramesh......'"
      ]
     },
     "execution_count": 112,
     "metadata": {},
     "output_type": "execute_result"
    }
   ],
   "source": [
    "name.center(25,'.')"
   ]
  },
  {
   "cell_type": "code",
   "execution_count": 113,
   "id": "49877376",
   "metadata": {},
   "outputs": [
    {
     "data": {
      "text/plain": [
       "'Raghul Ramesh            '"
      ]
     },
     "execution_count": 113,
     "metadata": {},
     "output_type": "execute_result"
    }
   ],
   "source": [
    "name.ljust(25)"
   ]
  },
  {
   "cell_type": "code",
   "execution_count": 114,
   "id": "30b634e8",
   "metadata": {},
   "outputs": [
    {
     "data": {
      "text/plain": [
       "'Raghul Ramesh============'"
      ]
     },
     "execution_count": 114,
     "metadata": {},
     "output_type": "execute_result"
    }
   ],
   "source": [
    "name.ljust(25,'=')"
   ]
  },
  {
   "cell_type": "code",
   "execution_count": 115,
   "id": "aa673483",
   "metadata": {},
   "outputs": [
    {
     "data": {
      "text/plain": [
       "'____________Raghul Ramesh'"
      ]
     },
     "execution_count": 115,
     "metadata": {},
     "output_type": "execute_result"
    }
   ],
   "source": [
    "name.rjust(25,'_')"
   ]
  },
  {
   "cell_type": "code",
   "execution_count": 170,
   "id": "4461103f",
   "metadata": {},
   "outputs": [],
   "source": [
    "salary='5000000'"
   ]
  },
  {
   "cell_type": "code",
   "execution_count": 172,
   "id": "1dff1da7",
   "metadata": {},
   "outputs": [
    {
     "data": {
      "text/plain": [
       "'0005000000'"
      ]
     },
     "execution_count": 172,
     "metadata": {},
     "output_type": "execute_result"
    }
   ],
   "source": [
    "salary.rjust(10,'0')"
   ]
  },
  {
   "cell_type": "code",
   "execution_count": 174,
   "id": "d581c234",
   "metadata": {},
   "outputs": [
    {
     "data": {
      "text/plain": [
       "'5000000000'"
      ]
     },
     "execution_count": 174,
     "metadata": {},
     "output_type": "execute_result"
    }
   ],
   "source": [
    "salary.ljust(10,'0')"
   ]
  },
  {
   "cell_type": "code",
   "execution_count": 175,
   "id": "f1fb54ee",
   "metadata": {},
   "outputs": [
    {
     "data": {
      "text/plain": [
       "'0005000000'"
      ]
     },
     "execution_count": 175,
     "metadata": {},
     "output_type": "execute_result"
    }
   ],
   "source": [
    "salary.zfill(10)"
   ]
  },
  {
   "cell_type": "code",
   "execution_count": 118,
   "id": "2ea92786",
   "metadata": {},
   "outputs": [],
   "source": [
    "line='I am part of data engineering course'"
   ]
  },
  {
   "cell_type": "code",
   "execution_count": 119,
   "id": "29b2ec76",
   "metadata": {},
   "outputs": [
    {
     "data": {
      "text/plain": [
       "'I am part of data engineering course'"
      ]
     },
     "execution_count": 119,
     "metadata": {},
     "output_type": "execute_result"
    }
   ],
   "source": [
    "line"
   ]
  },
  {
   "cell_type": "code",
   "execution_count": 120,
   "id": "5bbfcf78",
   "metadata": {},
   "outputs": [
    {
     "data": {
      "text/plain": [
       "'I am part of data analytics course'"
      ]
     },
     "execution_count": 120,
     "metadata": {},
     "output_type": "execute_result"
    }
   ],
   "source": [
    "line.replace('engineering','analytics')"
   ]
  },
  {
   "cell_type": "code",
   "execution_count": 126,
   "id": "adaff145",
   "metadata": {},
   "outputs": [
    {
     "data": {
      "text/plain": [
       "'I Am pArt of DAtA EnginEEring CoursE'"
      ]
     },
     "execution_count": 126,
     "metadata": {},
     "output_type": "execute_result"
    }
   ],
   "source": [
    "line.replace('a','A').replace('c','C').replace('d','D').replace('e','E')"
   ]
  },
  {
   "cell_type": "code",
   "execution_count": 127,
   "id": "9193516f",
   "metadata": {},
   "outputs": [
    {
     "data": {
      "text/plain": [
       "'I am part of data engineering course'"
      ]
     },
     "execution_count": 127,
     "metadata": {},
     "output_type": "execute_result"
    }
   ],
   "source": [
    "line.replace('acde','ACDE')"
   ]
  },
  {
   "cell_type": "code",
   "execution_count": 129,
   "id": "11deecd4",
   "metadata": {},
   "outputs": [],
   "source": [
    "# translate works with maketrans"
   ]
  },
  {
   "cell_type": "code",
   "execution_count": 134,
   "id": "cddbf9e5",
   "metadata": {},
   "outputs": [
    {
     "data": {
      "text/plain": [
       "'I Am pArt of DAtA EnginEEring CoursE'"
      ]
     },
     "execution_count": 134,
     "metadata": {},
     "output_type": "execute_result"
    }
   ],
   "source": [
    "line.translate({97:65,99:67,100:68,101:69})"
   ]
  },
  {
   "cell_type": "code",
   "execution_count": 133,
   "id": "050842f3",
   "metadata": {},
   "outputs": [
    {
     "data": {
      "text/plain": [
       "67"
      ]
     },
     "execution_count": 133,
     "metadata": {},
     "output_type": "execute_result"
    }
   ],
   "source": [
    "ord('C')"
   ]
  },
  {
   "cell_type": "code",
   "execution_count": 138,
   "id": "42234298",
   "metadata": {},
   "outputs": [],
   "source": [
    "chng=line.maketrans('abcd','ABCD')"
   ]
  },
  {
   "cell_type": "code",
   "execution_count": 139,
   "id": "e3bff1ac",
   "metadata": {},
   "outputs": [
    {
     "data": {
      "text/plain": [
       "'I Am pArt of DAtA engineering Course'"
      ]
     },
     "execution_count": 139,
     "metadata": {},
     "output_type": "execute_result"
    }
   ],
   "source": [
    "line.translate(chng)"
   ]
  },
  {
   "cell_type": "code",
   "execution_count": 141,
   "id": "87dd427b",
   "metadata": {},
   "outputs": [],
   "source": [
    "company='G!O@O#L$E%'"
   ]
  },
  {
   "cell_type": "code",
   "execution_count": 146,
   "id": "18c6c7ba",
   "metadata": {},
   "outputs": [
    {
     "data": {
      "text/plain": [
       "{126: 32,\n",
       " 33: 32,\n",
       " 64: 32,\n",
       " 35: 32,\n",
       " 36: 32,\n",
       " 37: 32,\n",
       " 94: 32,\n",
       " 38: 32,\n",
       " 42: 32,\n",
       " 40: 32,\n",
       " 41: 32,\n",
       " 95: 32,\n",
       " 43: 32,\n",
       " 123: 32,\n",
       " 125: 32,\n",
       " 124: 32}"
      ]
     },
     "execution_count": 146,
     "metadata": {},
     "output_type": "execute_result"
    }
   ],
   "source": [
    "company.maketrans('~!@#$%^&*()_+{}|','                ')"
   ]
  },
  {
   "cell_type": "code",
   "execution_count": 147,
   "id": "01ecbe64",
   "metadata": {},
   "outputs": [],
   "source": [
    "c={126: None,\n",
    " 33: None,\n",
    " 64: None,\n",
    " 35: None,\n",
    " 36: None,\n",
    " 37: None,\n",
    " 94: None,\n",
    " 38: None,\n",
    " 42: None,\n",
    " 40: None,\n",
    " 41: None,\n",
    " 95: None,\n",
    " 43: None,\n",
    " 123: None,\n",
    " 125: None,\n",
    " 124: None}"
   ]
  },
  {
   "cell_type": "code",
   "execution_count": 148,
   "id": "819e653d",
   "metadata": {},
   "outputs": [
    {
     "data": {
      "text/plain": [
       "'GOOLE'"
      ]
     },
     "execution_count": 148,
     "metadata": {},
     "output_type": "execute_result"
    }
   ],
   "source": [
    "company.translate(c)"
   ]
  },
  {
   "cell_type": "code",
   "execution_count": 149,
   "id": "926db59d",
   "metadata": {},
   "outputs": [],
   "source": [
    "comp='M_)IC*&^RO^%#$S(&OF*$T%$#%^&)'"
   ]
  },
  {
   "cell_type": "code",
   "execution_count": 150,
   "id": "7d620ab0",
   "metadata": {},
   "outputs": [
    {
     "data": {
      "text/plain": [
       "'MICROSOFT'"
      ]
     },
     "execution_count": 150,
     "metadata": {},
     "output_type": "execute_result"
    }
   ],
   "source": [
    "comp.translate(c)"
   ]
  },
  {
   "cell_type": "code",
   "execution_count": 151,
   "id": "c55ce551",
   "metadata": {},
   "outputs": [],
   "source": [
    "city='Chennai-Bangalore-Hyderabad-Pune-Delhi'"
   ]
  },
  {
   "cell_type": "code",
   "execution_count": 152,
   "id": "29be390a",
   "metadata": {},
   "outputs": [
    {
     "data": {
      "text/plain": [
       "['Chennai', 'Bangalore', 'Hyderabad', 'Pune', 'Delhi']"
      ]
     },
     "execution_count": 152,
     "metadata": {},
     "output_type": "execute_result"
    }
   ],
   "source": [
    "city.split('-')"
   ]
  },
  {
   "cell_type": "code",
   "execution_count": 153,
   "id": "f677761c",
   "metadata": {},
   "outputs": [],
   "source": [
    "location=['Chennai', 'Bangalore', 'Hyderabad', 'Pune', 'Delhi']"
   ]
  },
  {
   "cell_type": "code",
   "execution_count": 154,
   "id": "ad017655",
   "metadata": {},
   "outputs": [
    {
     "data": {
      "text/plain": [
       "'Chennai_Bangalore_Hyderabad_Pune_Delhi'"
      ]
     },
     "execution_count": 154,
     "metadata": {},
     "output_type": "execute_result"
    }
   ],
   "source": [
    "'_'.join(location)"
   ]
  },
  {
   "cell_type": "code",
   "execution_count": 160,
   "id": "349156e0",
   "metadata": {},
   "outputs": [],
   "source": [
    "#strip, lstrip, rstrip"
   ]
  },
  {
   "cell_type": "code",
   "execution_count": 161,
   "id": "13f46bb1",
   "metadata": {},
   "outputs": [],
   "source": [
    "name='      Raghul Ramesh  '"
   ]
  },
  {
   "cell_type": "code",
   "execution_count": 162,
   "id": "c36e07ea",
   "metadata": {},
   "outputs": [
    {
     "data": {
      "text/plain": [
       "'      Raghul Ramesh  '"
      ]
     },
     "execution_count": 162,
     "metadata": {},
     "output_type": "execute_result"
    }
   ],
   "source": [
    "name"
   ]
  },
  {
   "cell_type": "code",
   "execution_count": 163,
   "id": "91eb8c7e",
   "metadata": {},
   "outputs": [
    {
     "data": {
      "text/plain": [
       "'Raghul Ramesh'"
      ]
     },
     "execution_count": 163,
     "metadata": {},
     "output_type": "execute_result"
    }
   ],
   "source": [
    "name.strip()"
   ]
  },
  {
   "cell_type": "code",
   "execution_count": 164,
   "id": "ab19e5c3",
   "metadata": {},
   "outputs": [
    {
     "data": {
      "text/plain": [
       "'Raghul Ramesh  '"
      ]
     },
     "execution_count": 164,
     "metadata": {},
     "output_type": "execute_result"
    }
   ],
   "source": [
    "name.lstrip()"
   ]
  },
  {
   "cell_type": "code",
   "execution_count": 165,
   "id": "fe2c2504",
   "metadata": {},
   "outputs": [
    {
     "data": {
      "text/plain": [
       "'      Raghul Ramesh'"
      ]
     },
     "execution_count": 165,
     "metadata": {},
     "output_type": "execute_result"
    }
   ],
   "source": [
    "name.rstrip()"
   ]
  },
  {
   "cell_type": "code",
   "execution_count": null,
   "id": "6d46f8d0",
   "metadata": {},
   "outputs": [],
   "source": []
  }
 ],
 "metadata": {
  "kernelspec": {
   "display_name": "Python 3 (ipykernel)",
   "language": "python",
   "name": "python3"
  },
  "language_info": {
   "codemirror_mode": {
    "name": "ipython",
    "version": 3
   },
   "file_extension": ".py",
   "mimetype": "text/x-python",
   "name": "python",
   "nbconvert_exporter": "python",
   "pygments_lexer": "ipython3",
   "version": "3.8.10"
  }
 },
 "nbformat": 4,
 "nbformat_minor": 5
}
