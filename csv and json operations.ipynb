{
 "cells": [
  {
   "cell_type": "code",
   "execution_count": 8,
   "id": "c3ce0123",
   "metadata": {},
   "outputs": [
    {
     "name": "stdout",
     "output_type": "stream",
     "text": [
      "Columns are : CustID,name,age,city \n",
      "\n",
      "\n",
      "1000,Ramkumar,22,Bangalore\n",
      "1001,Durga,25,Hyderabad\n",
      "1002,Vijay,30,Chennai\n",
      "1003,Nithya,34,Bangalore\n",
      "1004,Aveek,40,Delhi\n"
     ]
    }
   ],
   "source": [
    "import csv\n",
    "\n",
    "with open(r'C:\\Users\\RaghulRamesh\\OneDrive\\Desktop\\ETL\\customer.csv','r') as cf:\n",
    "    cust_data=csv.reader(cf)\n",
    "    \n",
    "    line_count=0\n",
    "    for row in cust_data:\n",
    "        if line_count == 0:\n",
    "            print(\"Columns are : {} \\n\\n\".format(\",\".join(row)))\n",
    "            line_count +=1\n",
    "        else:\n",
    "            #print(row[1] + \" : \" + row[-1])\n",
    "            print(\",\".join(row))"
   ]
  },
  {
   "cell_type": "code",
   "execution_count": 14,
   "id": "67f6b5e2",
   "metadata": {},
   "outputs": [],
   "source": [
    "with open(r'C:\\Users\\RaghulRamesh\\OneDrive\\Desktop\\ETL\\transaction_data.csv','w',newline='') as cf:\n",
    "    data=csv.writer(cf)\n",
    "    \n",
    "    data.writerow([\"TransID\",\"CustID\",\"Product\",\"Amount\"])\n",
    "    data.writerow([\"1\",\"1000\",\"Laptop\",\"75000\"])\n",
    "    data.writerow([\"2\",\"1003\",\"Mobile\",\"125000\"])\n",
    "    data.writerow([\"3\",\"1001\",\"TV\",\"65000\"])\n"
   ]
  },
  {
   "cell_type": "markdown",
   "id": "319b9ead",
   "metadata": {},
   "source": [
    "# JSON"
   ]
  },
  {
   "cell_type": "code",
   "execution_count": 15,
   "id": "16fd3d61",
   "metadata": {},
   "outputs": [],
   "source": [
    "import json"
   ]
  },
  {
   "cell_type": "code",
   "execution_count": 21,
   "id": "532e8935",
   "metadata": {},
   "outputs": [
    {
     "name": "stdout",
     "output_type": "stream",
     "text": [
      "Name  :  Raghul Ramesh\n",
      "City  :  Chennai\n",
      "Tech  :  ['Python', 'AIML', 'AWS']\n",
      "Manager  :  False\n",
      "Salary  :  None\n"
     ]
    }
   ],
   "source": [
    "with open(r'C:\\Users\\RaghulRamesh\\PycharmProjects\\pythonProject\\trainer_info.json','r') as fo:\n",
    "    data = json.load(fo)\n",
    "    \n",
    "for k in data.keys():\n",
    "    print(k + '  :  '+str(data[k]))"
   ]
  },
  {
   "cell_type": "code",
   "execution_count": 24,
   "id": "8b9e93c4",
   "metadata": {},
   "outputs": [],
   "source": [
    "sample_dict={\n",
    "    'name':'Karthik',\n",
    "    'grade':'O',\n",
    "    'class':12,\n",
    "    'online':False,\n",
    "    'Fee_outstanding': None\n",
    "}\n",
    "\n",
    "with open(r'C:\\Users\\RaghulRamesh\\OneDrive\\Desktop\\ETL\\student.json','w') as wfo:\n",
    "    json.dump(sample_dict,wfo)\n",
    "    "
   ]
  },
  {
   "cell_type": "code",
   "execution_count": null,
   "id": "3240a4df",
   "metadata": {},
   "outputs": [],
   "source": []
  }
 ],
 "metadata": {
  "kernelspec": {
   "display_name": "Python 3 (ipykernel)",
   "language": "python",
   "name": "python3"
  },
  "language_info": {
   "codemirror_mode": {
    "name": "ipython",
    "version": 3
   },
   "file_extension": ".py",
   "mimetype": "text/x-python",
   "name": "python",
   "nbconvert_exporter": "python",
   "pygments_lexer": "ipython3",
   "version": "3.8.10"
  }
 },
 "nbformat": 4,
 "nbformat_minor": 5
}
