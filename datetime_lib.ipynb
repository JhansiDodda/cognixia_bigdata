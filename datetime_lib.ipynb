{
 "cells": [
  {
   "cell_type": "markdown",
   "id": "16d2a462",
   "metadata": {},
   "source": [
    "# DATETIME"
   ]
  },
  {
   "cell_type": "code",
   "execution_count": 1,
   "id": "22d3ab02",
   "metadata": {},
   "outputs": [
    {
     "name": "stderr",
     "output_type": "stream",
     "text": [
      "UsageError: Line magic function `%a` not found.\n"
     ]
    }
   ],
   "source": [
    "%a weekday's abbreviated name       Sun,Mon,...Sat\n",
    "%A weekday's full name              Sunday,, Monday...Saturday\n",
    "%b Month's abbreviated name         Jan, Feb,....Dec\n",
    "%B Month's fullname                 January, February... December\n",
    "%d days of month                    01,02,03.....31\n",
    "%w weekday in a decimal value       0-Sunday, 1-Monday.....6-Saturday\n",
    "%m Month in a deciaml value         01,02,....12\n",
    "%y year is 2 digit format           22,23,24,25,26.......\n",
    "%Y year in 4 digit format           2022,2023,2024......\n",
    "%H hours                            00...23\n",
    "%I 12-hours format                  00...12\n",
    "%p  AM|PM\n",
    "%M Minutes                          00..59\n",
    "%S Seconds                          00..59\n",
    "%f microseconds\n",
    "%z timezone"
   ]
  },
  {
   "cell_type": "code",
   "execution_count": 2,
   "id": "2927b2bd",
   "metadata": {},
   "outputs": [],
   "source": [
    "import datetime"
   ]
  },
  {
   "cell_type": "code",
   "execution_count": 4,
   "id": "0e2a6887",
   "metadata": {},
   "outputs": [
    {
     "name": "stdout",
     "output_type": "stream",
     "text": [
      "['MAXYEAR', 'MINYEAR', '__builtins__', '__cached__', '__doc__', '__file__', '__loader__', '__name__', '__package__', '__spec__', 'date', 'datetime', 'datetime_CAPI', 'sys', 'time', 'timedelta', 'timezone', 'tzinfo']\n"
     ]
    }
   ],
   "source": [
    "print(dir(datetime))"
   ]
  },
  {
   "cell_type": "code",
   "execution_count": 6,
   "id": "feb2ce6e",
   "metadata": {},
   "outputs": [],
   "source": [
    "dy=datetime.date(2022,8,25)"
   ]
  },
  {
   "cell_type": "code",
   "execution_count": 7,
   "id": "ea6b84ed",
   "metadata": {},
   "outputs": [
    {
     "data": {
      "text/plain": [
       "2022"
      ]
     },
     "execution_count": 7,
     "metadata": {},
     "output_type": "execute_result"
    }
   ],
   "source": [
    "dy.year"
   ]
  },
  {
   "cell_type": "code",
   "execution_count": 8,
   "id": "446ec123",
   "metadata": {},
   "outputs": [
    {
     "data": {
      "text/plain": [
       "8"
      ]
     },
     "execution_count": 8,
     "metadata": {},
     "output_type": "execute_result"
    }
   ],
   "source": [
    "dy.month"
   ]
  },
  {
   "cell_type": "code",
   "execution_count": 9,
   "id": "e9ac0b5b",
   "metadata": {},
   "outputs": [
    {
     "data": {
      "text/plain": [
       "25"
      ]
     },
     "execution_count": 9,
     "metadata": {},
     "output_type": "execute_result"
    }
   ],
   "source": [
    "dy.day"
   ]
  },
  {
   "cell_type": "code",
   "execution_count": 12,
   "id": "2c724c0f",
   "metadata": {},
   "outputs": [],
   "source": [
    "dt=datetime.timedelta(200)"
   ]
  },
  {
   "cell_type": "code",
   "execution_count": 13,
   "id": "1c5678b6",
   "metadata": {},
   "outputs": [
    {
     "data": {
      "text/plain": [
       "datetime.date(2023, 3, 13)"
      ]
     },
     "execution_count": 13,
     "metadata": {},
     "output_type": "execute_result"
    }
   ],
   "source": [
    "dy+dt"
   ]
  },
  {
   "cell_type": "code",
   "execution_count": 14,
   "id": "6b8e2703",
   "metadata": {},
   "outputs": [
    {
     "data": {
      "text/plain": [
       "datetime.date(2022, 2, 6)"
      ]
     },
     "execution_count": 14,
     "metadata": {},
     "output_type": "execute_result"
    }
   ],
   "source": [
    "dy-dt"
   ]
  },
  {
   "cell_type": "code",
   "execution_count": 15,
   "id": "f2ebca5c",
   "metadata": {},
   "outputs": [
    {
     "data": {
      "text/plain": [
       "datetime.datetime(2022, 8, 25, 11, 6, 40, 907436)"
      ]
     },
     "execution_count": 15,
     "metadata": {},
     "output_type": "execute_result"
    }
   ],
   "source": [
    "datetime.datetime.now()"
   ]
  },
  {
   "cell_type": "code",
   "execution_count": 16,
   "id": "e6ddcfbc",
   "metadata": {},
   "outputs": [
    {
     "data": {
      "text/plain": [
       "datetime.date(2022, 8, 25)"
      ]
     },
     "execution_count": 16,
     "metadata": {},
     "output_type": "execute_result"
    }
   ],
   "source": [
    "datetime.date.today()"
   ]
  },
  {
   "cell_type": "code",
   "execution_count": 28,
   "id": "206c929a",
   "metadata": {},
   "outputs": [
    {
     "name": "stdout",
     "output_type": "stream",
     "text": [
      "25-08-2022 11:12:36 AM\n"
     ]
    }
   ],
   "source": [
    "dt=datetime.datetime.now()\n",
    "print(dt.strftime(\"%d-%m-%Y %I:%M:%S %p\"))\n",
    "#25-8-2022 11:10 AM"
   ]
  },
  {
   "cell_type": "code",
   "execution_count": 32,
   "id": "149af3dd",
   "metadata": {},
   "outputs": [
    {
     "name": "stdout",
     "output_type": "stream",
     "text": [
      "Thursday, 25 August 2022\n"
     ]
    }
   ],
   "source": [
    "dt=datetime.datetime.now()\n",
    "print(dt.strftime(\"%A, %d %B %Y\"))"
   ]
  },
  {
   "cell_type": "code",
   "execution_count": 33,
   "id": "631c08ac",
   "metadata": {},
   "outputs": [
    {
     "name": "stdout",
     "output_type": "stream",
     "text": [
      "08/25/2022\n"
     ]
    }
   ],
   "source": [
    "dt=datetime.datetime.now()\n",
    "print(dt.strftime(\"%m/%d/%Y\"))"
   ]
  },
  {
   "cell_type": "code",
   "execution_count": 34,
   "id": "e572b432",
   "metadata": {},
   "outputs": [],
   "source": [
    "#======================="
   ]
  },
  {
   "cell_type": "code",
   "execution_count": 35,
   "id": "cb740bca",
   "metadata": {},
   "outputs": [],
   "source": [
    " mydict={'Name': 'Dhoni', 'Experience': 20}"
   ]
  },
  {
   "cell_type": "code",
   "execution_count": 36,
   "id": "714156fb",
   "metadata": {},
   "outputs": [],
   "source": [
    "mydict['Game']='Cricket'"
   ]
  },
  {
   "cell_type": "code",
   "execution_count": 37,
   "id": "9ba5141e",
   "metadata": {},
   "outputs": [
    {
     "data": {
      "text/plain": [
       "{'Name': 'Dhoni', 'Experience': 20, 'Game': 'Cricket'}"
      ]
     },
     "execution_count": 37,
     "metadata": {},
     "output_type": "execute_result"
    }
   ],
   "source": [
    "mydict"
   ]
  },
  {
   "cell_type": "code",
   "execution_count": 39,
   "id": "20de3676",
   "metadata": {},
   "outputs": [],
   "source": [
    "d1={'Name':'Guru', 'Class':'Second'}\n",
    "d2={'Mark1':80, 'Mark2':70}\n",
    "d3={'Mark3':90, 'Mark4':60}"
   ]
  },
  {
   "cell_type": "code",
   "execution_count": 42,
   "id": "a170b8e4",
   "metadata": {},
   "outputs": [],
   "source": [
    "d1.update(d2)"
   ]
  },
  {
   "cell_type": "code",
   "execution_count": 44,
   "id": "4b48f961",
   "metadata": {},
   "outputs": [],
   "source": [
    "d1.update(d3)"
   ]
  },
  {
   "cell_type": "code",
   "execution_count": 45,
   "id": "727bbfae",
   "metadata": {},
   "outputs": [
    {
     "data": {
      "text/plain": [
       "{'Name': 'Guru',\n",
       " 'Class': 'Second',\n",
       " 'Mark1': 80,\n",
       " 'Mark2': 70,\n",
       " 'Mark3': 90,\n",
       " 'Mark4': 60}"
      ]
     },
     "execution_count": 45,
     "metadata": {},
     "output_type": "execute_result"
    }
   ],
   "source": [
    "d1"
   ]
  },
  {
   "cell_type": "code",
   "execution_count": 51,
   "id": "a9e49ca3",
   "metadata": {},
   "outputs": [],
   "source": [
    "d1={'Name':'Guru', 'Class':'Second'}\n",
    "d2={'Mark1':80, 'Mark2':70}\n",
    "d3={'Mark3':90, 'Mark4':60}"
   ]
  },
  {
   "cell_type": "code",
   "execution_count": 52,
   "id": "ff3147a0",
   "metadata": {},
   "outputs": [],
   "source": [
    "d4={}\n",
    "d4.update(d1)\n",
    "d4.update(d2)\n",
    "d4.update(d3)"
   ]
  },
  {
   "cell_type": "code",
   "execution_count": 53,
   "id": "0186fc56",
   "metadata": {},
   "outputs": [
    {
     "data": {
      "text/plain": [
       "{'Name': 'Guru',\n",
       " 'Class': 'Second',\n",
       " 'Mark1': 80,\n",
       " 'Mark2': 70,\n",
       " 'Mark3': 90,\n",
       " 'Mark4': 60}"
      ]
     },
     "execution_count": 53,
     "metadata": {},
     "output_type": "execute_result"
    }
   ],
   "source": [
    "d4"
   ]
  },
  {
   "cell_type": "code",
   "execution_count": 59,
   "id": "70ea290c",
   "metadata": {},
   "outputs": [
    {
     "data": {
      "text/plain": [
       "'Not Exists'"
      ]
     },
     "execution_count": 59,
     "metadata": {},
     "output_type": "execute_result"
    }
   ],
   "source": [
    "d1={'Name':'Guru', 'Class':'Second'}\n",
    "\n",
    "d1.get('Salary','Not Exists')"
   ]
  },
  {
   "cell_type": "code",
   "execution_count": 60,
   "id": "3bb490f5",
   "metadata": {},
   "outputs": [
    {
     "name": "stdout",
     "output_type": "stream",
     "text": [
      "Name ---> Dhoni\n",
      "Experience ---> 20\n",
      "Game ---> Cricket\n"
     ]
    }
   ],
   "source": [
    "player = {'Name': 'Dhoni', 'Experience': 20, 'Game':'Cricket'}\n",
    "for k in player:\n",
    "    print(k + ' ---> '+str(player[k]))"
   ]
  },
  {
   "cell_type": "code",
   "execution_count": 63,
   "id": "494230d6",
   "metadata": {},
   "outputs": [],
   "source": [
    "def create_dict(n):\n",
    "    d1={}\n",
    "    for x in range(1,n+1):\n",
    "        d1[x]=x*x\n",
    "    print(d1)"
   ]
  },
  {
   "cell_type": "code",
   "execution_count": 65,
   "id": "fc8e6680",
   "metadata": {},
   "outputs": [
    {
     "name": "stdout",
     "output_type": "stream",
     "text": [
      "{1: 1, 2: 4, 3: 9, 4: 16, 5: 25, 6: 36, 7: 49, 8: 64, 9: 81, 10: 100, 11: 121, 12: 144, 13: 169, 14: 196, 15: 225, 16: 256, 17: 289, 18: 324, 19: 361, 20: 400}\n"
     ]
    }
   ],
   "source": [
    "create_dict(20)"
   ]
  },
  {
   "cell_type": "code",
   "execution_count": 66,
   "id": "f378e01d",
   "metadata": {},
   "outputs": [
    {
     "name": "stdout",
     "output_type": "stream",
     "text": [
      "Total Marks: 433\n"
     ]
    }
   ],
   "source": [
    "marks = {'m1':80, 'm2':79, 'm3':90, 'm4': 98, 'm5':86}\n",
    "x=0\n",
    "for v in marks.values():\n",
    "    x+=v      # x = x+v\n",
    "print('Total Marks:',x)"
   ]
  },
  {
   "cell_type": "code",
   "execution_count": 67,
   "id": "74ffc507",
   "metadata": {},
   "outputs": [],
   "source": [
    "player = {'Name': 'Dhoni', 'Experience': 20, 'Game':'Cricket'}"
   ]
  },
  {
   "cell_type": "code",
   "execution_count": 71,
   "id": "fe29eefd",
   "metadata": {},
   "outputs": [
    {
     "name": "stdout",
     "output_type": "stream",
     "text": [
      "Experience 20\n",
      "Game Cricket\n",
      "Name Dhoni\n"
     ]
    }
   ],
   "source": [
    "for k in sorted(player.keys()):\n",
    "    print(k, player[k])"
   ]
  },
  {
   "cell_type": "code",
   "execution_count": 75,
   "id": "19ab3c22",
   "metadata": {},
   "outputs": [
    {
     "name": "stdout",
     "output_type": "stream",
     "text": [
      "Name is Dhoni\n",
      "Experience is 20\n",
      "Game is Cricket\n"
     ]
    }
   ],
   "source": [
    "for k in player.keys():\n",
    "    print(k+' is '+str(player[k]))"
   ]
  },
  {
   "cell_type": "code",
   "execution_count": 77,
   "id": "9426c470",
   "metadata": {},
   "outputs": [
    {
     "name": "stdout",
     "output_type": "stream",
     "text": [
      "Minimum: 500\n",
      "Maximum: 5874\n"
     ]
    }
   ],
   "source": [
    "my_dict = {'x':500, 'y':5874, 'z': 560, 'a':600, 'b':680}\n",
    "\n",
    "print('Minimum:',min(my_dict.values()))\n",
    "print('Maximum:',max(my_dict.values()))"
   ]
  },
  {
   "cell_type": "code",
   "execution_count": 78,
   "id": "b3e2498b",
   "metadata": {},
   "outputs": [
    {
     "data": {
      "text/plain": [
       "dict_values([500, 5874, 560, 600, 680])"
      ]
     },
     "execution_count": 78,
     "metadata": {},
     "output_type": "execute_result"
    }
   ],
   "source": [
    "my_dict.values()"
   ]
  },
  {
   "cell_type": "code",
   "execution_count": 80,
   "id": "57a73187",
   "metadata": {},
   "outputs": [
    {
     "name": "stdout",
     "output_type": "stream",
     "text": [
      "{'Name': None, 'Class': None, 'Mark': None}\n"
     ]
    }
   ],
   "source": [
    "a = ['Name', 'Class', 'Mark']\n",
    "b = None\n",
    "\n",
    "print(dict.fromkeys(a,b))"
   ]
  },
  {
   "cell_type": "code",
   "execution_count": 81,
   "id": "c05d3110",
   "metadata": {},
   "outputs": [
    {
     "data": {
      "text/plain": [
       "[1, 4, 9, 16, 25, 36, 49, 64, 81, 100]"
      ]
     },
     "execution_count": 81,
     "metadata": {},
     "output_type": "execute_result"
    }
   ],
   "source": [
    "[ x**2 for x in range(1,11)]"
   ]
  },
  {
   "cell_type": "code",
   "execution_count": 84,
   "id": "2eb5acbb",
   "metadata": {},
   "outputs": [
    {
     "data": {
      "text/plain": [
       "[4, 16, 36, 64, 100, 144, 196]"
      ]
     },
     "execution_count": 84,
     "metadata": {},
     "output_type": "execute_result"
    }
   ],
   "source": [
    "[ x**2 for x in range(1,16) if x%2==0]"
   ]
  },
  {
   "cell_type": "code",
   "execution_count": 92,
   "id": "56c010ee",
   "metadata": {},
   "outputs": [],
   "source": [
    "def addition(x,y):\n",
    "    return x+y\n",
    "\n",
    "def subraction(x,y):\n",
    "    return x-y\n",
    "\n",
    "def division(x,y):\n",
    "    return x/y\n",
    "\n",
    "def multiplication(x,y):\n",
    "    return x*y\n",
    "\n",
    "import logging\n",
    "logging.basicConfig(filename=r\"C:\\Users\\RaghulRamesh\\OneDrive\\Desktop\\ETL\\output.log\",level=logging.DEBUG)\n",
    "lg=logging.getLogger()\n",
    "\n",
    "a=10\n",
    "b=20\n",
    "\n",
    "res=addition(a,b)\n",
    "lg.debug('Addition of {} + {} = {}'.format(a,b,res))\n",
    "res=subraction(a,b)\n",
    "lg.debug('Subraction of {} - {} = {}'.format(a,b,res))\n",
    "res=division(a,b)\n",
    "lg.debug('Division of {} / {} = {}'.format(a,b,res))\n",
    "res=multiplication(a,b)\n",
    "lg.debug('Multiplication of {} * {} = {}'.format(a,b,res))"
   ]
  },
  {
   "cell_type": "code",
   "execution_count": null,
   "id": "a7ec328e",
   "metadata": {},
   "outputs": [],
   "source": []
  }
 ],
 "metadata": {
  "kernelspec": {
   "display_name": "Python 3 (ipykernel)",
   "language": "python",
   "name": "python3"
  },
  "language_info": {
   "codemirror_mode": {
    "name": "ipython",
    "version": 3
   },
   "file_extension": ".py",
   "mimetype": "text/x-python",
   "name": "python",
   "nbconvert_exporter": "python",
   "pygments_lexer": "ipython3",
   "version": "3.8.10"
  }
 },
 "nbformat": 4,
 "nbformat_minor": 5
}
