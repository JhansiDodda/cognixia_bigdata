{
 "cells": [
  {
   "cell_type": "markdown",
   "id": "f9eee4d7",
   "metadata": {},
   "source": [
    "# DATETIME"
   ]
  },
  {
   "cell_type": "code",
   "execution_count": 1,
   "id": "3efed6c5",
   "metadata": {},
   "outputs": [
    {
     "name": "stderr",
     "output_type": "stream",
     "text": [
      "UsageError: Line magic function `%a` not found.\n"
     ]
    }
   ],
   "source": [
    "%a weekday's abbreviated name       Sun,Mon,...Sat\n",
    "%A weekday's full name              Sunday,, Monday...Saturday\n",
    "%b Month's abbreviated name         Jan, Feb,....Dec\n",
    "%B Month's fullname                 January, February... December\n",
    "%d days of month                    01,02,03.....31\n",
    "%w weekday in a decimal value       0-Sunday, 1-Monday.....6-Saturday\n",
    "%m Month in a deciaml value         01,02,....12\n",
    "%y year is 2 digit format           22,23,24,25,26.......\n",
    "%Y year in 4 digit format           2022,2023,2024......\n",
    "%H hours                            00...23\n",
    "%I 12-hours format                  00...12\n",
    "%p  AM|PM\n",
    "%M Minutes                          00..59\n",
    "%S Seconds                          00..59\n",
    "%f microseconds\n",
    "%z timezone"
   ]
  },
  {
   "cell_type": "code",
   "execution_count": 2,
   "id": "45201443",
   "metadata": {},
   "outputs": [],
   "source": [
    "import datetime"
   ]
  },
  {
   "cell_type": "code",
   "execution_count": 4,
   "id": "291aab0b",
   "metadata": {},
   "outputs": [
    {
     "name": "stdout",
     "output_type": "stream",
     "text": [
      "['MAXYEAR', 'MINYEAR', '__builtins__', '__cached__', '__doc__', '__file__', '__loader__', '__name__', '__package__', '__spec__', 'date', 'datetime', 'datetime_CAPI', 'sys', 'time', 'timedelta', 'timezone', 'tzinfo']\n"
     ]
    }
   ],
   "source": [
    "print(dir(datetime))"
   ]
  },
  {
   "cell_type": "code",
   "execution_count": 6,
   "id": "0fc1858e",
   "metadata": {},
   "outputs": [],
   "source": [
    "dy=datetime.date(2022,8,25)"
   ]
  },
  {
   "cell_type": "code",
   "execution_count": 7,
   "id": "ca0b3b07",
   "metadata": {},
   "outputs": [
    {
     "data": {
      "text/plain": [
       "2022"
      ]
     },
     "execution_count": 7,
     "metadata": {},
     "output_type": "execute_result"
    }
   ],
   "source": [
    "dy.year"
   ]
  },
  {
   "cell_type": "code",
   "execution_count": 8,
   "id": "498da921",
   "metadata": {},
   "outputs": [
    {
     "data": {
      "text/plain": [
       "8"
      ]
     },
     "execution_count": 8,
     "metadata": {},
     "output_type": "execute_result"
    }
   ],
   "source": [
    "dy.month"
   ]
  },
  {
   "cell_type": "code",
   "execution_count": 9,
   "id": "2c52a481",
   "metadata": {},
   "outputs": [
    {
     "data": {
      "text/plain": [
       "25"
      ]
     },
     "execution_count": 9,
     "metadata": {},
     "output_type": "execute_result"
    }
   ],
   "source": [
    "dy.day"
   ]
  },
  {
   "cell_type": "code",
   "execution_count": 12,
   "id": "b8f723e1",
   "metadata": {},
   "outputs": [],
   "source": [
    "dt=datetime.timedelta(200)"
   ]
  },
  {
   "cell_type": "code",
   "execution_count": 13,
   "id": "5198bec7",
   "metadata": {},
   "outputs": [
    {
     "data": {
      "text/plain": [
       "datetime.date(2023, 3, 13)"
      ]
     },
     "execution_count": 13,
     "metadata": {},
     "output_type": "execute_result"
    }
   ],
   "source": [
    "dy+dt"
   ]
  },
  {
   "cell_type": "code",
   "execution_count": 14,
   "id": "74eb8e36",
   "metadata": {},
   "outputs": [
    {
     "data": {
      "text/plain": [
       "datetime.date(2022, 2, 6)"
      ]
     },
     "execution_count": 14,
     "metadata": {},
     "output_type": "execute_result"
    }
   ],
   "source": [
    "dy-dt"
   ]
  },
  {
   "cell_type": "code",
   "execution_count": 15,
   "id": "30739418",
   "metadata": {},
   "outputs": [
    {
     "data": {
      "text/plain": [
       "datetime.datetime(2022, 8, 25, 11, 6, 40, 907436)"
      ]
     },
     "execution_count": 15,
     "metadata": {},
     "output_type": "execute_result"
    }
   ],
   "source": [
    "datetime.datetime.now()"
   ]
  },
  {
   "cell_type": "code",
   "execution_count": 16,
   "id": "3ce1d5cd",
   "metadata": {},
   "outputs": [
    {
     "data": {
      "text/plain": [
       "datetime.date(2022, 8, 25)"
      ]
     },
     "execution_count": 16,
     "metadata": {},
     "output_type": "execute_result"
    }
   ],
   "source": [
    "datetime.date.today()"
   ]
  },
  {
   "cell_type": "code",
   "execution_count": 28,
   "id": "836abcc4",
   "metadata": {},
   "outputs": [
    {
     "name": "stdout",
     "output_type": "stream",
     "text": [
      "25-08-2022 11:12:36 AM\n"
     ]
    }
   ],
   "source": [
    "dt=datetime.datetime.now()\n",
    "print(dt.strftime(\"%d-%m-%Y %I:%M:%S %p\"))\n",
    "#25-8-2022 11:10 AM"
   ]
  },
  {
   "cell_type": "code",
   "execution_count": 32,
   "id": "178d43b9",
   "metadata": {},
   "outputs": [
    {
     "name": "stdout",
     "output_type": "stream",
     "text": [
      "Thursday, 25 August 2022\n"
     ]
    }
   ],
   "source": [
    "dt=datetime.datetime.now()\n",
    "print(dt.strftime(\"%A, %d %B %Y\"))"
   ]
  },
  {
   "cell_type": "code",
   "execution_count": 33,
   "id": "ea91c8c8",
   "metadata": {},
   "outputs": [
    {
     "name": "stdout",
     "output_type": "stream",
     "text": [
      "08/25/2022\n"
     ]
    }
   ],
   "source": [
    "dt=datetime.datetime.now()\n",
    "print(dt.strftime(\"%m/%d/%Y\"))"
   ]
  },
  {
   "cell_type": "code",
   "execution_count": null,
   "id": "b831d281",
   "metadata": {},
   "outputs": [],
   "source": []
  }
 ],
 "metadata": {
  "kernelspec": {
   "display_name": "Python 3 (ipykernel)",
   "language": "python",
   "name": "python3"
  },
  "language_info": {
   "codemirror_mode": {
    "name": "ipython",
    "version": 3
   },
   "file_extension": ".py",
   "mimetype": "text/x-python",
   "name": "python",
   "nbconvert_exporter": "python",
   "pygments_lexer": "ipython3",
   "version": "3.8.10"
  }
 },
 "nbformat": 4,
 "nbformat_minor": 5
}
